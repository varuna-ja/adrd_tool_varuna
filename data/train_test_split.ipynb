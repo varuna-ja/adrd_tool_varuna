{
 "cells": [
  {
   "cell_type": "code",
   "execution_count": 1,
   "metadata": {},
   "outputs": [],
   "source": [
    "import pandas as pd\n",
    "import numpy as np\n",
    "import os\n",
    "import re\n",
    "from icecream import ic\n",
    "import copy\n",
    "import ast"
   ]
  },
  {
   "cell_type": "code",
   "execution_count": 2,
   "metadata": {},
   "outputs": [],
   "source": [
    "import warnings\n",
    "warnings.filterwarnings(\"ignore\")"
   ]
  },
  {
   "attachments": {},
   "cell_type": "markdown",
   "metadata": {},
   "source": [
    "### Train Test Split"
   ]
  },
  {
   "cell_type": "code",
   "execution_count": 8,
   "metadata": {},
   "outputs": [],
   "source": [
    "random_state = 0\n",
    "nacc = pd.read_csv('/home/skowshik/ADRD_repo/pipeline_v1_main/adrd_tool/data/training_cohorts/new_nacc_revised_selection.csv')\n",
    "nacc = nacc.sample(frac=1, random_state=random_state).reset_index(drop=True)\n",
    "\n",
    "nacc_np = pd.read_csv('/home/skowshik/ADRD_repo/pipeline_v1_main/adrd_tool/data/train_vld_test_split_updated/nacc_neuropath.csv')\n",
    "nacc_np = nacc[nacc['ID'].isin(nacc_np['ID'])]\n",
    "\n",
    "cli = pd.read_csv('/home/skowshik/ADRD_repo/pipeline_v1_main/adrd_tool/data/train_vld_test_split_updated/clinician_review_cases_test.csv')\n",
    "cli = nacc[nacc['ID'].isin(cli['ID'])]\n",
    "\n",
    "nacc_wo_np_cli = nacc[(~nacc['ID'].isin(nacc_np['ID'])) & (~nacc['ID'].isin(cli['ID']))]\n",
    "\n",
    "merged = pd.read_csv('/home/skowshik/ADRD_repo/pipeline_v1_main/adrd_tool/data/training_cohorts/merged_data_nacc_nifd_stanford_aibl_ppmi_oasis_rtni_without_np_cli.csv')\n",
    "merged = merged.sample(frac=1, random_state=random_state).reset_index(drop=True)\n",
    "\n",
    "test = pd.read_csv('/home/skowshik/ADRD_repo/pipeline_v1_main/adrd_tool/data/train_vld_test_split_updated/nacc_test_with_np_cli.csv')"
   ]
  },
  {
   "cell_type": "code",
   "execution_count": 9,
   "metadata": {},
   "outputs": [
    {
     "data": {
      "text/plain": [
       "0"
      ]
     },
     "execution_count": 9,
     "metadata": {},
     "output_type": "execute_result"
    }
   ],
   "source": [
    "len(merged[merged['ID'].str.startswith('AIBL') & merged['cdr_CDRGLOB'].isna()])"
   ]
  },
  {
   "cell_type": "code",
   "execution_count": 10,
   "metadata": {},
   "outputs": [
    {
     "data": {
      "text/html": [
       "<div>\n",
       "<style scoped>\n",
       "    .dataframe tbody tr th:only-of-type {\n",
       "        vertical-align: middle;\n",
       "    }\n",
       "\n",
       "    .dataframe tbody tr th {\n",
       "        vertical-align: top;\n",
       "    }\n",
       "\n",
       "    .dataframe thead th {\n",
       "        text-align: right;\n",
       "    }\n",
       "</style>\n",
       "<table border=\"1\" class=\"dataframe\">\n",
       "  <thead>\n",
       "    <tr style=\"text-align: right;\">\n",
       "      <th></th>\n",
       "      <th>ID</th>\n",
       "      <th>non_null_count</th>\n",
       "      <th>MRI_CNT</th>\n",
       "      <th>NC</th>\n",
       "      <th>MCI</th>\n",
       "      <th>DE</th>\n",
       "      <th>AD</th>\n",
       "      <th>LBD</th>\n",
       "      <th>PDD</th>\n",
       "      <th>DLB</th>\n",
       "      <th>...</th>\n",
       "      <th>bat_RESPDISN</th>\n",
       "      <th>bat_RESPFATG</th>\n",
       "      <th>bat_RESPEMOT</th>\n",
       "      <th>bat_RESPASST</th>\n",
       "      <th>bat_RESPOTH</th>\n",
       "      <th>bat_RESPOTHX</th>\n",
       "      <th>apoe_NACCNE4S</th>\n",
       "      <th>cdr_CDRGLOB</th>\n",
       "      <th>cdr_CDRSUM</th>\n",
       "      <th>mri_zip</th>\n",
       "    </tr>\n",
       "  </thead>\n",
       "  <tbody>\n",
       "    <tr>\n",
       "      <th>0</th>\n",
       "      <td>NACC900273</td>\n",
       "      <td>258</td>\n",
       "      <td>NaN</td>\n",
       "      <td>0</td>\n",
       "      <td>0</td>\n",
       "      <td>1</td>\n",
       "      <td>1</td>\n",
       "      <td>0</td>\n",
       "      <td>0</td>\n",
       "      <td>0</td>\n",
       "      <td>...</td>\n",
       "      <td>NaN</td>\n",
       "      <td>NaN</td>\n",
       "      <td>NaN</td>\n",
       "      <td>NaN</td>\n",
       "      <td>NaN</td>\n",
       "      <td>NaN</td>\n",
       "      <td>1.0</td>\n",
       "      <td>1.0</td>\n",
       "      <td>4.5</td>\n",
       "      <td>NaN</td>\n",
       "    </tr>\n",
       "    <tr>\n",
       "      <th>1</th>\n",
       "      <td>NACC598453</td>\n",
       "      <td>193</td>\n",
       "      <td>4.0</td>\n",
       "      <td>0</td>\n",
       "      <td>0</td>\n",
       "      <td>1</td>\n",
       "      <td>1</td>\n",
       "      <td>0</td>\n",
       "      <td>0</td>\n",
       "      <td>0</td>\n",
       "      <td>...</td>\n",
       "      <td>NaN</td>\n",
       "      <td>NaN</td>\n",
       "      <td>NaN</td>\n",
       "      <td>NaN</td>\n",
       "      <td>NaN</td>\n",
       "      <td>NaN</td>\n",
       "      <td>1.0</td>\n",
       "      <td>1.0</td>\n",
       "      <td>5.0</td>\n",
       "      <td>mri6866.zip</td>\n",
       "    </tr>\n",
       "    <tr>\n",
       "      <th>2</th>\n",
       "      <td>NACC448699</td>\n",
       "      <td>193</td>\n",
       "      <td>NaN</td>\n",
       "      <td>0</td>\n",
       "      <td>0</td>\n",
       "      <td>1</td>\n",
       "      <td>1</td>\n",
       "      <td>0</td>\n",
       "      <td>0</td>\n",
       "      <td>0</td>\n",
       "      <td>...</td>\n",
       "      <td>NaN</td>\n",
       "      <td>NaN</td>\n",
       "      <td>NaN</td>\n",
       "      <td>NaN</td>\n",
       "      <td>NaN</td>\n",
       "      <td>NaN</td>\n",
       "      <td>1.0</td>\n",
       "      <td>1.0</td>\n",
       "      <td>5.0</td>\n",
       "      <td>NaN</td>\n",
       "    </tr>\n",
       "    <tr>\n",
       "      <th>3</th>\n",
       "      <td>NACC996281</td>\n",
       "      <td>185</td>\n",
       "      <td>5.0</td>\n",
       "      <td>0</td>\n",
       "      <td>0</td>\n",
       "      <td>1</td>\n",
       "      <td>1</td>\n",
       "      <td>0</td>\n",
       "      <td>0</td>\n",
       "      <td>0</td>\n",
       "      <td>...</td>\n",
       "      <td>NaN</td>\n",
       "      <td>NaN</td>\n",
       "      <td>NaN</td>\n",
       "      <td>NaN</td>\n",
       "      <td>NaN</td>\n",
       "      <td>NaN</td>\n",
       "      <td>0.0</td>\n",
       "      <td>3.0</td>\n",
       "      <td>16.0</td>\n",
       "      <td>mri5135.zip</td>\n",
       "    </tr>\n",
       "    <tr>\n",
       "      <th>4</th>\n",
       "      <td>NACC797956</td>\n",
       "      <td>193</td>\n",
       "      <td>NaN</td>\n",
       "      <td>0</td>\n",
       "      <td>0</td>\n",
       "      <td>1</td>\n",
       "      <td>1</td>\n",
       "      <td>0</td>\n",
       "      <td>0</td>\n",
       "      <td>0</td>\n",
       "      <td>...</td>\n",
       "      <td>NaN</td>\n",
       "      <td>NaN</td>\n",
       "      <td>NaN</td>\n",
       "      <td>NaN</td>\n",
       "      <td>NaN</td>\n",
       "      <td>NaN</td>\n",
       "      <td>1.0</td>\n",
       "      <td>2.0</td>\n",
       "      <td>10.0</td>\n",
       "      <td>NaN</td>\n",
       "    </tr>\n",
       "    <tr>\n",
       "      <th>...</th>\n",
       "      <td>...</td>\n",
       "      <td>...</td>\n",
       "      <td>...</td>\n",
       "      <td>...</td>\n",
       "      <td>...</td>\n",
       "      <td>...</td>\n",
       "      <td>...</td>\n",
       "      <td>...</td>\n",
       "      <td>...</td>\n",
       "      <td>...</td>\n",
       "      <td>...</td>\n",
       "      <td>...</td>\n",
       "      <td>...</td>\n",
       "      <td>...</td>\n",
       "      <td>...</td>\n",
       "      <td>...</td>\n",
       "      <td>...</td>\n",
       "      <td>...</td>\n",
       "      <td>...</td>\n",
       "      <td>...</td>\n",
       "      <td>...</td>\n",
       "    </tr>\n",
       "    <tr>\n",
       "      <th>8890</th>\n",
       "      <td>NACC856668</td>\n",
       "      <td>263</td>\n",
       "      <td>NaN</td>\n",
       "      <td>0</td>\n",
       "      <td>0</td>\n",
       "      <td>1</td>\n",
       "      <td>1</td>\n",
       "      <td>0</td>\n",
       "      <td>0</td>\n",
       "      <td>0</td>\n",
       "      <td>...</td>\n",
       "      <td>NaN</td>\n",
       "      <td>NaN</td>\n",
       "      <td>NaN</td>\n",
       "      <td>NaN</td>\n",
       "      <td>NaN</td>\n",
       "      <td>NaN</td>\n",
       "      <td>1.0</td>\n",
       "      <td>0.5</td>\n",
       "      <td>3.5</td>\n",
       "      <td>NaN</td>\n",
       "    </tr>\n",
       "    <tr>\n",
       "      <th>8891</th>\n",
       "      <td>NACC941694</td>\n",
       "      <td>192</td>\n",
       "      <td>NaN</td>\n",
       "      <td>0</td>\n",
       "      <td>0</td>\n",
       "      <td>1</td>\n",
       "      <td>1</td>\n",
       "      <td>0</td>\n",
       "      <td>0</td>\n",
       "      <td>0</td>\n",
       "      <td>...</td>\n",
       "      <td>NaN</td>\n",
       "      <td>NaN</td>\n",
       "      <td>NaN</td>\n",
       "      <td>NaN</td>\n",
       "      <td>NaN</td>\n",
       "      <td>NaN</td>\n",
       "      <td>1.0</td>\n",
       "      <td>0.5</td>\n",
       "      <td>3.5</td>\n",
       "      <td>NaN</td>\n",
       "    </tr>\n",
       "    <tr>\n",
       "      <th>8892</th>\n",
       "      <td>NACC093272</td>\n",
       "      <td>209</td>\n",
       "      <td>NaN</td>\n",
       "      <td>0</td>\n",
       "      <td>0</td>\n",
       "      <td>1</td>\n",
       "      <td>1</td>\n",
       "      <td>0</td>\n",
       "      <td>0</td>\n",
       "      <td>0</td>\n",
       "      <td>...</td>\n",
       "      <td>NaN</td>\n",
       "      <td>NaN</td>\n",
       "      <td>NaN</td>\n",
       "      <td>NaN</td>\n",
       "      <td>NaN</td>\n",
       "      <td>NaN</td>\n",
       "      <td>0.0</td>\n",
       "      <td>1.0</td>\n",
       "      <td>7.0</td>\n",
       "      <td>NaN</td>\n",
       "    </tr>\n",
       "    <tr>\n",
       "      <th>8893</th>\n",
       "      <td>NACC174114</td>\n",
       "      <td>208</td>\n",
       "      <td>NaN</td>\n",
       "      <td>0</td>\n",
       "      <td>0</td>\n",
       "      <td>1</td>\n",
       "      <td>1</td>\n",
       "      <td>0</td>\n",
       "      <td>0</td>\n",
       "      <td>0</td>\n",
       "      <td>...</td>\n",
       "      <td>NaN</td>\n",
       "      <td>NaN</td>\n",
       "      <td>NaN</td>\n",
       "      <td>NaN</td>\n",
       "      <td>NaN</td>\n",
       "      <td>NaN</td>\n",
       "      <td>1.0</td>\n",
       "      <td>1.0</td>\n",
       "      <td>5.5</td>\n",
       "      <td>NaN</td>\n",
       "    </tr>\n",
       "    <tr>\n",
       "      <th>8894</th>\n",
       "      <td>NACC829999</td>\n",
       "      <td>199</td>\n",
       "      <td>NaN</td>\n",
       "      <td>1</td>\n",
       "      <td>0</td>\n",
       "      <td>0</td>\n",
       "      <td>0</td>\n",
       "      <td>0</td>\n",
       "      <td>0</td>\n",
       "      <td>0</td>\n",
       "      <td>...</td>\n",
       "      <td>NaN</td>\n",
       "      <td>NaN</td>\n",
       "      <td>NaN</td>\n",
       "      <td>NaN</td>\n",
       "      <td>NaN</td>\n",
       "      <td>NaN</td>\n",
       "      <td>0.0</td>\n",
       "      <td>0.0</td>\n",
       "      <td>0.0</td>\n",
       "      <td>NaN</td>\n",
       "    </tr>\n",
       "  </tbody>\n",
       "</table>\n",
       "<p>8895 rows × 464 columns</p>\n",
       "</div>"
      ],
      "text/plain": [
       "              ID  non_null_count  MRI_CNT  NC  MCI  DE  AD  LBD  PDD  DLB  \\\n",
       "0     NACC900273             258      NaN   0    0   1   1    0    0    0   \n",
       "1     NACC598453             193      4.0   0    0   1   1    0    0    0   \n",
       "2     NACC448699             193      NaN   0    0   1   1    0    0    0   \n",
       "3     NACC996281             185      5.0   0    0   1   1    0    0    0   \n",
       "4     NACC797956             193      NaN   0    0   1   1    0    0    0   \n",
       "...          ...             ...      ...  ..  ...  ..  ..  ...  ...  ...   \n",
       "8890  NACC856668             263      NaN   0    0   1   1    0    0    0   \n",
       "8891  NACC941694             192      NaN   0    0   1   1    0    0    0   \n",
       "8892  NACC093272             209      NaN   0    0   1   1    0    0    0   \n",
       "8893  NACC174114             208      NaN   0    0   1   1    0    0    0   \n",
       "8894  NACC829999             199      NaN   1    0   0   0    0    0    0   \n",
       "\n",
       "      ...  bat_RESPDISN  bat_RESPFATG  bat_RESPEMOT  bat_RESPASST  \\\n",
       "0     ...           NaN           NaN           NaN           NaN   \n",
       "1     ...           NaN           NaN           NaN           NaN   \n",
       "2     ...           NaN           NaN           NaN           NaN   \n",
       "3     ...           NaN           NaN           NaN           NaN   \n",
       "4     ...           NaN           NaN           NaN           NaN   \n",
       "...   ...           ...           ...           ...           ...   \n",
       "8890  ...           NaN           NaN           NaN           NaN   \n",
       "8891  ...           NaN           NaN           NaN           NaN   \n",
       "8892  ...           NaN           NaN           NaN           NaN   \n",
       "8893  ...           NaN           NaN           NaN           NaN   \n",
       "8894  ...           NaN           NaN           NaN           NaN   \n",
       "\n",
       "      bat_RESPOTH  bat_RESPOTHX  apoe_NACCNE4S  cdr_CDRGLOB  cdr_CDRSUM  \\\n",
       "0             NaN           NaN            1.0          1.0         4.5   \n",
       "1             NaN           NaN            1.0          1.0         5.0   \n",
       "2             NaN           NaN            1.0          1.0         5.0   \n",
       "3             NaN           NaN            0.0          3.0        16.0   \n",
       "4             NaN           NaN            1.0          2.0        10.0   \n",
       "...           ...           ...            ...          ...         ...   \n",
       "8890          NaN           NaN            1.0          0.5         3.5   \n",
       "8891          NaN           NaN            1.0          0.5         3.5   \n",
       "8892          NaN           NaN            0.0          1.0         7.0   \n",
       "8893          NaN           NaN            1.0          1.0         5.5   \n",
       "8894          NaN           NaN            0.0          0.0         0.0   \n",
       "\n",
       "          mri_zip  \n",
       "0             NaN  \n",
       "1     mri6866.zip  \n",
       "2             NaN  \n",
       "3     mri5135.zip  \n",
       "4             NaN  \n",
       "...           ...  \n",
       "8890          NaN  \n",
       "8891          NaN  \n",
       "8892          NaN  \n",
       "8893          NaN  \n",
       "8894          NaN  \n",
       "\n",
       "[8895 rows x 464 columns]"
      ]
     },
     "execution_count": 10,
     "metadata": {},
     "output_type": "execute_result"
    }
   ],
   "source": [
    "test"
   ]
  },
  {
   "attachments": {},
   "cell_type": "markdown",
   "metadata": {},
   "source": [
    "## If test file is present"
   ]
  },
  {
   "cell_type": "code",
   "execution_count": 16,
   "metadata": {},
   "outputs": [],
   "source": [
    "random_state = 0\n",
    "nacc_trn_vld = nacc_wo_np_cli[~nacc_wo_np_cli['ID'].isin(test['ID'])]"
   ]
  },
  {
   "cell_type": "code",
   "execution_count": 17,
   "metadata": {},
   "outputs": [],
   "source": [
    "def get_train_split(df, save_path):\n",
    "    nc = df[df['NC'] == 1][:int(0.75 * len(df[df['NC'] == 1]))]\n",
    "    # imci = df[df['IMCI'] == 1][:int(0.6 * len(df[df['IMCI'] == 1]))]\n",
    "    mci = df[df['MCI'] == 1][:int(0.75 * len(df[df['MCI'] == 1]))]\n",
    "    # de = nacc_unique_df_converted[nacc_unique_df_converted['DE'] == 1][:int(0.8 * len(nacc_unique_df_converted[nacc_unique_df_converted['DE'] == 1]))]\n",
    "    ad = df[df['AD'] == 1][:int(0.75 * len(df[df['AD'] == 1]))]\n",
    "    lbd = df[df['LBD'] == 1][:int(0.75 * len(df[df['LBD'] == 1]))]\n",
    "    vd = df[df['VD'] == 1][:int(0.68 * len(df[df['VD'] == 1]))]\n",
    "    prion = df[df['PRD'] == 1][:int(0.7 * len(df[df['PRD'] == 1]))]\n",
    "    ftd = df[df['FTD'] == 1][:int(0.75 * len(df[df['FTD'] == 1]))]\n",
    "    nph = df[df['NPH'] == 1][:int(0.75 * len(df[df['NPH'] == 1]))]\n",
    "    sef = df[df['SEF'] == 1][:int(0.75 * len(df[df['SEF'] == 1]))]\n",
    "    psy = df[df['PSY'] == 1][:int(0.75 * len(df[df['PSY'] == 1]))]\n",
    "    tbi = df[df['TBI'] == 1][:int(0.55 * len(df[df['TBI'] == 1]))]\n",
    "    oc = df[df['ODE'] == 1][:int(0.75 * len(df[df['ODE'] == 1]))]\n",
    "\n",
    "    df_train = pd.concat([nc, mci, ad, lbd, vd, prion, ftd, nph, sef, psy, tbi, oc], ignore_index=True)\n",
    "    df_train = df_train.sample(frac=1, random_state=random_state).reset_index(drop=True)\n",
    "    df_train.drop_duplicates(inplace=True)\n",
    "    df_train.to_csv(save_path, index=False)\n",
    "    return df_train\n",
    "\n",
    "def get_vld_split(df, save_path, df_train):\n",
    "    df_vld = df[~df['ID'].isin(list(df_train['ID']))]\n",
    "    df_vld = df_vld.sample(frac=1, random_state=random_state).reset_index(drop=True)\n",
    "    df_vld.drop_duplicates(inplace=True)\n",
    "    df_vld.to_csv(save_path, index=False)\n",
    "    return df_vld\n",
    "    "
   ]
  },
  {
   "cell_type": "code",
   "execution_count": 18,
   "metadata": {},
   "outputs": [],
   "source": [
    "train = get_train_split(nacc_trn_vld, '/home/skowshik/ADRD_repo/pipeline_v1_main/adrd_tool/data/train_vld_test_split_updated/nacc_train.csv')\n",
    "vld = get_vld_split(nacc_trn_vld, '/home/skowshik/ADRD_repo/pipeline_v1_main/adrd_tool/data/train_vld_test_split_updated/nacc_vld.csv', train)\n",
    "# # test.to_csv('/home/skowshik/ADRD_repo/pipeline_v1_main/adrd_tool/data/training_cohorts/train_vld_test_split/nacc_test.csv', index=False)"
   ]
  },
  {
   "cell_type": "code",
   "execution_count": 19,
   "metadata": {},
   "outputs": [
    {
     "data": {
      "text/plain": [
       "45349"
      ]
     },
     "execution_count": 19,
     "metadata": {},
     "output_type": "execute_result"
    }
   ],
   "source": [
    "len(set(train['ID'])) + len(set(vld['ID'])) + len(set(test['ID']))"
   ]
  },
  {
   "cell_type": "code",
   "execution_count": 20,
   "metadata": {},
   "outputs": [
    {
     "data": {
      "text/plain": [
       "45349"
      ]
     },
     "execution_count": 20,
     "metadata": {},
     "output_type": "execute_result"
    }
   ],
   "source": [
    "len(nacc)"
   ]
  },
  {
   "cell_type": "code",
   "execution_count": 21,
   "metadata": {},
   "outputs": [
    {
     "data": {
      "text/plain": [
       "set()"
      ]
     },
     "execution_count": 21,
     "metadata": {},
     "output_type": "execute_result"
    }
   ],
   "source": [
    "set(vld['ID']).intersection(set(train['ID']))"
   ]
  },
  {
   "cell_type": "code",
   "execution_count": 22,
   "metadata": {},
   "outputs": [
    {
     "data": {
      "text/plain": [
       "set()"
      ]
     },
     "execution_count": 22,
     "metadata": {},
     "output_type": "execute_result"
    }
   ],
   "source": [
    "set(train['mri_zip']).intersection(set(nacc_np['mri_zip']).union(set(cli['mri_zip'])))"
   ]
  },
  {
   "cell_type": "code",
   "execution_count": 23,
   "metadata": {},
   "outputs": [],
   "source": [
    "nacc_lab_dict = {}\n",
    "nacc_trn_lab_dict = {}\n",
    "nacc_vld_lab_dict = {}\n",
    "nacc_tst_lab_dict = {}\n",
    "for label in ['NC', 'MCI', 'DE', 'AD', 'LBD', 'VD', 'PRD', 'FTD', 'NPH', 'SEF', 'PSY', 'TBI', 'ODE']:\n",
    "    nacc_lab_dict[label] = nacc[label].value_counts()\n",
    "    nacc_trn_lab_dict[label] = train[label].value_counts()\n",
    "    nacc_vld_lab_dict[label] = vld[label].value_counts()\n",
    "    nacc_tst_lab_dict[label] = test[label].value_counts()\n",
    "train_ratios = {k:(v[1] / nacc_lab_dict[k][1]) for k, v in nacc_trn_lab_dict.items()}\n",
    "vld_ratios = {k:(v[1] / nacc_lab_dict[k][1]) for k, v in nacc_vld_lab_dict.items()}\n",
    "test_ratios = {k:(v[1] / nacc_lab_dict[k][1]) for k, v in nacc_tst_lab_dict.items()}"
   ]
  },
  {
   "cell_type": "code",
   "execution_count": 24,
   "metadata": {},
   "outputs": [
    {
     "data": {
      "text/plain": [
       "{'NC': 0.6053822062405754,\n",
       " 'MCI': 0.6030071221313638,\n",
       " 'DE': 0.6021437271619976,\n",
       " 'AD': 0.602876449073213,\n",
       " 'LBD': 0.5938316779926817,\n",
       " 'VD': 0.6060448150078166,\n",
       " 'PRD': 0.5877192982456141,\n",
       " 'FTD': 0.6080055210489993,\n",
       " 'NPH': 0.6159420289855072,\n",
       " 'SEF': 0.6002475247524752,\n",
       " 'PSY': 0.607037037037037,\n",
       " 'TBI': 0.6037735849056604,\n",
       " 'ODE': 0.6045380875202593}"
      ]
     },
     "execution_count": 24,
     "metadata": {},
     "output_type": "execute_result"
    }
   ],
   "source": [
    "train_ratios"
   ]
  },
  {
   "cell_type": "code",
   "execution_count": 25,
   "metadata": {},
   "outputs": [
    {
     "data": {
      "text/plain": [
       "{'NC': 0.20183273402157523,\n",
       " 'MCI': 0.20100237404378793,\n",
       " 'DE': 0.19883069427527406,\n",
       " 'AD': 0.1993056847064658,\n",
       " 'LBD': 0.1970726607422896,\n",
       " 'VD': 0.20114643043251693,\n",
       " 'PRD': 0.2631578947368421,\n",
       " 'FTD': 0.19703243616287094,\n",
       " 'NPH': 0.18840579710144928,\n",
       " 'SEF': 0.2004950495049505,\n",
       " 'PSY': 0.20074074074074075,\n",
       " 'TBI': 0.19245283018867926,\n",
       " 'ODE': 0.20178282009724474}"
      ]
     },
     "execution_count": 25,
     "metadata": {},
     "output_type": "execute_result"
    }
   ],
   "source": [
    "vld_ratios"
   ]
  },
  {
   "cell_type": "code",
   "execution_count": 26,
   "metadata": {},
   "outputs": [
    {
     "data": {
      "text/plain": [
       "{'NC': 0.19278505973784943,\n",
       " 'MCI': 0.1959905038248483,\n",
       " 'DE': 0.19902557856272837,\n",
       " 'AD': 0.19781786622032113,\n",
       " 'LBD': 0.20909566126502874,\n",
       " 'VD': 0.1928087545596665,\n",
       " 'PRD': 0.14912280701754385,\n",
       " 'FTD': 0.19496204278812976,\n",
       " 'NPH': 0.1956521739130435,\n",
       " 'SEF': 0.19925742574257427,\n",
       " 'PSY': 0.1922222222222222,\n",
       " 'TBI': 0.2037735849056604,\n",
       " 'ODE': 0.19367909238249595}"
      ]
     },
     "execution_count": 26,
     "metadata": {},
     "output_type": "execute_result"
    }
   ],
   "source": [
    "test_ratios"
   ]
  },
  {
   "cell_type": "code",
   "execution_count": null,
   "metadata": {},
   "outputs": [],
   "source": []
  },
  {
   "cell_type": "code",
   "execution_count": 27,
   "metadata": {},
   "outputs": [
    {
     "data": {
      "text/html": [
       "<div>\n",
       "<style scoped>\n",
       "    .dataframe tbody tr th:only-of-type {\n",
       "        vertical-align: middle;\n",
       "    }\n",
       "\n",
       "    .dataframe tbody tr th {\n",
       "        vertical-align: top;\n",
       "    }\n",
       "\n",
       "    .dataframe thead th {\n",
       "        text-align: right;\n",
       "    }\n",
       "</style>\n",
       "<table border=\"1\" class=\"dataframe\">\n",
       "  <thead>\n",
       "    <tr style=\"text-align: right;\">\n",
       "      <th></th>\n",
       "      <th>ID</th>\n",
       "      <th>non_null_count</th>\n",
       "      <th>MRI_CNT</th>\n",
       "      <th>NC</th>\n",
       "      <th>MCI</th>\n",
       "      <th>DE</th>\n",
       "      <th>AD</th>\n",
       "      <th>LBD</th>\n",
       "      <th>PDD</th>\n",
       "      <th>DLB</th>\n",
       "      <th>...</th>\n",
       "      <th>bat_RESPDISN</th>\n",
       "      <th>bat_RESPFATG</th>\n",
       "      <th>bat_RESPEMOT</th>\n",
       "      <th>bat_RESPASST</th>\n",
       "      <th>bat_RESPOTH</th>\n",
       "      <th>bat_RESPOTHX</th>\n",
       "      <th>apoe_NACCNE4S</th>\n",
       "      <th>cdr_CDRGLOB</th>\n",
       "      <th>cdr_CDRSUM</th>\n",
       "      <th>mri_zip</th>\n",
       "    </tr>\n",
       "  </thead>\n",
       "  <tbody>\n",
       "  </tbody>\n",
       "</table>\n",
       "<p>0 rows × 464 columns</p>\n",
       "</div>"
      ],
      "text/plain": [
       "Empty DataFrame\n",
       "Columns: [ID, non_null_count, MRI_CNT, NC, MCI, DE, AD, LBD, PDD, DLB, VD, PRD, FTD, NPH, SEF, PSY, TBI, ODE, his_NACCREAS, his_NACCREFR, his_BIRTHMO, his_BIRTHYR, his_SEX, his_HISPANIC, his_HISPOR, his_HISPORX, his_RACE, his_RACEX, his_RACESEC, his_RACESECX, his_RACETER, his_RACETERX, his_PRIMLANG, his_PRIMLANX, his_EDUC, his_MARISTAT, his_LIVSIT, his_INDEPEND, his_RESIDENC, his_HANDED, his_NACCAGE, his_NACCAGEB, his_NACCNIHR, his_NACCFAM, his_NACCMOM, his_NACCDAD, his_NACCFADM, his_NACCAM, his_NACCAMX, his_NACCAMS, his_NACCAMSX, his_NACCFFTD, his_NACCFM, his_NACCFMX, his_NACCFMS, his_NACCFMSX, his_NACCOM, his_NACCOMX, his_NACCOMS, his_NACCOMSX, his_TOBAC30, his_TOBAC100, his_SMOKYRS, his_PACKSPER, his_QUITSMOK, his_ALCOCCAS, his_ALCFREQ, his_CVHATT, his_HATTMULT, his_HATTYEAR, his_CVAFIB, his_CVANGIO, his_CVBYPASS, his_CVPACDEF, his_CVPACE, his_CVCHF, his_CVANGINA, his_CVHVALVE, his_CVOTHR, his_CVOTHRX, his_CBSTROKE, his_STROKMUL, his_NACCSTYR, his_CBTIA, his_TIAMULT, his_NACCTIYR, his_PD, his_PDYR, his_PDOTHR, his_PDOTHRYR, his_SEIZURES, his_TBI, his_TBIBRIEF, his_TRAUMBRF, his_TBIEXTEN, his_TRAUMEXT, his_TBIWOLOS, his_TRAUMCHR, his_TBIYEAR, his_NCOTHR, ...]\n",
       "Index: []\n",
       "\n",
       "[0 rows x 464 columns]"
      ]
     },
     "execution_count": 27,
     "metadata": {},
     "output_type": "execute_result"
    }
   ],
   "source": [
    "merged[merged['ID'].isna()]"
   ]
  },
  {
   "cell_type": "code",
   "execution_count": 28,
   "metadata": {},
   "outputs": [],
   "source": [
    "merged_train_vld = merged[~merged['ID'].isin(list(test['ID']))]"
   ]
  },
  {
   "cell_type": "code",
   "execution_count": 29,
   "metadata": {},
   "outputs": [],
   "source": [
    "def get_train_split_merged(df, save_path):\n",
    "    nc = df[df['NC'] == 1][:int(0.75 * len(df[df['NC'] == 1]))]\n",
    "    # imci = df[df['IMCI'] == 1][:int(0.6 * len(df[df['IMCI'] == 1]))]\n",
    "    mci = df[df['MCI'] == 1][:int(0.75 * len(df[df['MCI'] == 1]))]\n",
    "    # de = nacc_unique_df_converted[nacc_unique_df_converted['DE'] == 1][:int(0.8 * len(nacc_unique_df_converted[nacc_unique_df_converted['DE'] == 1]))]\n",
    "    ad = df[df['AD'] == 1][:int(0.75 * len(df[df['AD'] == 1]))]\n",
    "    lbd = df[df['LBD'] == 1][:int(0.75 * len(df[df['LBD'] == 1]))]\n",
    "    vd = df[df['VD'] == 1][:int(0.68 * len(df[df['VD'] == 1]))]\n",
    "    prion = df[df['PRD'] == 1][:int(0.7 * len(df[df['PRD'] == 1]))]\n",
    "    ftd = df[df['FTD'] == 1][:int(0.75 * len(df[df['FTD'] == 1]))]\n",
    "    nph = df[df['NPH'] == 1][:int(0.75 * len(df[df['NPH'] == 1]))]\n",
    "    sef = df[df['SEF'] == 1][:int(0.75 * len(df[df['SEF'] == 1]))]\n",
    "    psy = df[df['PSY'] == 1][:int(0.75 * len(df[df['PSY'] == 1]))]\n",
    "    tbi = df[df['TBI'] == 1][:int(0.75 * len(df[df['TBI'] == 1]))]\n",
    "    oc = df[df['ODE'] == 1][:int(0.75 * len(df[df['ODE'] == 1]))]\n",
    "\n",
    "    df_train = pd.concat([nc, mci, ad, lbd, vd, prion, ftd, nph, sef, psy, tbi, oc], ignore_index=True)\n",
    "    df_train = df_train.sample(frac=1, random_state=random_state).reset_index(drop=True)\n",
    "    df_train.drop_duplicates(inplace=True)\n",
    "    df_train.to_csv(save_path, index=False)\n",
    "    return df_train\n",
    "\n",
    "def get_vld_split_merged(df, save_path, df_train):\n",
    "    df_vld = df[~df['ID'].isin(list(df_train['ID']))]\n",
    "    df_vld = df_vld.sample(frac=1, random_state=random_state).reset_index(drop=True)\n",
    "    df_vld.drop_duplicates(inplace=True)\n",
    "    df_vld.to_csv(save_path, index=False)\n",
    "    return df_vld"
   ]
  },
  {
   "cell_type": "code",
   "execution_count": 30,
   "metadata": {},
   "outputs": [],
   "source": [
    "merged_train = get_train_split_merged(merged_train_vld, '/home/skowshik/ADRD_repo/pipeline_v1_main/adrd_tool/data/train_vld_test_split_updated/merged_train.csv')\n",
    "merged_vld = get_vld_split_merged(merged_train_vld, '/home/skowshik/ADRD_repo/pipeline_v1_main/adrd_tool/data/train_vld_test_split_updated/merged_vld.csv', merged_train)"
   ]
  },
  {
   "cell_type": "code",
   "execution_count": 31,
   "metadata": {},
   "outputs": [
    {
     "data": {
      "text/html": [
       "<div>\n",
       "<style scoped>\n",
       "    .dataframe tbody tr th:only-of-type {\n",
       "        vertical-align: middle;\n",
       "    }\n",
       "\n",
       "    .dataframe tbody tr th {\n",
       "        vertical-align: top;\n",
       "    }\n",
       "\n",
       "    .dataframe thead th {\n",
       "        text-align: right;\n",
       "    }\n",
       "</style>\n",
       "<table border=\"1\" class=\"dataframe\">\n",
       "  <thead>\n",
       "    <tr style=\"text-align: right;\">\n",
       "      <th></th>\n",
       "      <th>ID</th>\n",
       "      <th>non_null_count</th>\n",
       "      <th>MRI_CNT</th>\n",
       "      <th>NC</th>\n",
       "      <th>MCI</th>\n",
       "      <th>DE</th>\n",
       "      <th>AD</th>\n",
       "      <th>LBD</th>\n",
       "      <th>PDD</th>\n",
       "      <th>DLB</th>\n",
       "      <th>...</th>\n",
       "      <th>bat_RESPDISN</th>\n",
       "      <th>bat_RESPFATG</th>\n",
       "      <th>bat_RESPEMOT</th>\n",
       "      <th>bat_RESPASST</th>\n",
       "      <th>bat_RESPOTH</th>\n",
       "      <th>bat_RESPOTHX</th>\n",
       "      <th>apoe_NACCNE4S</th>\n",
       "      <th>cdr_CDRGLOB</th>\n",
       "      <th>cdr_CDRSUM</th>\n",
       "      <th>mri_zip</th>\n",
       "    </tr>\n",
       "  </thead>\n",
       "  <tbody>\n",
       "  </tbody>\n",
       "</table>\n",
       "<p>0 rows × 464 columns</p>\n",
       "</div>"
      ],
      "text/plain": [
       "Empty DataFrame\n",
       "Columns: [ID, non_null_count, MRI_CNT, NC, MCI, DE, AD, LBD, PDD, DLB, VD, PRD, FTD, NPH, SEF, PSY, TBI, ODE, his_NACCREAS, his_NACCREFR, his_BIRTHMO, his_BIRTHYR, his_SEX, his_HISPANIC, his_HISPOR, his_HISPORX, his_RACE, his_RACEX, his_RACESEC, his_RACESECX, his_RACETER, his_RACETERX, his_PRIMLANG, his_PRIMLANX, his_EDUC, his_MARISTAT, his_LIVSIT, his_INDEPEND, his_RESIDENC, his_HANDED, his_NACCAGE, his_NACCAGEB, his_NACCNIHR, his_NACCFAM, his_NACCMOM, his_NACCDAD, his_NACCFADM, his_NACCAM, his_NACCAMX, his_NACCAMS, his_NACCAMSX, his_NACCFFTD, his_NACCFM, his_NACCFMX, his_NACCFMS, his_NACCFMSX, his_NACCOM, his_NACCOMX, his_NACCOMS, his_NACCOMSX, his_TOBAC30, his_TOBAC100, his_SMOKYRS, his_PACKSPER, his_QUITSMOK, his_ALCOCCAS, his_ALCFREQ, his_CVHATT, his_HATTMULT, his_HATTYEAR, his_CVAFIB, his_CVANGIO, his_CVBYPASS, his_CVPACDEF, his_CVPACE, his_CVCHF, his_CVANGINA, his_CVHVALVE, his_CVOTHR, his_CVOTHRX, his_CBSTROKE, his_STROKMUL, his_NACCSTYR, his_CBTIA, his_TIAMULT, his_NACCTIYR, his_PD, his_PDYR, his_PDOTHR, his_PDOTHRYR, his_SEIZURES, his_TBI, his_TBIBRIEF, his_TRAUMBRF, his_TBIEXTEN, his_TRAUMEXT, his_TBIWOLOS, his_TRAUMCHR, his_TBIYEAR, his_NCOTHR, ...]\n",
       "Index: []\n",
       "\n",
       "[0 rows x 464 columns]"
      ]
     },
     "execution_count": 31,
     "metadata": {},
     "output_type": "execute_result"
    }
   ],
   "source": [
    "merged_train[(merged_train['NC'] == 0) & (merged_train['MCI'] == 0) & (merged_train['DE'] == 0)]"
   ]
  },
  {
   "cell_type": "code",
   "execution_count": 32,
   "metadata": {},
   "outputs": [
    {
     "data": {
      "text/html": [
       "<div>\n",
       "<style scoped>\n",
       "    .dataframe tbody tr th:only-of-type {\n",
       "        vertical-align: middle;\n",
       "    }\n",
       "\n",
       "    .dataframe tbody tr th {\n",
       "        vertical-align: top;\n",
       "    }\n",
       "\n",
       "    .dataframe thead th {\n",
       "        text-align: right;\n",
       "    }\n",
       "</style>\n",
       "<table border=\"1\" class=\"dataframe\">\n",
       "  <thead>\n",
       "    <tr style=\"text-align: right;\">\n",
       "      <th></th>\n",
       "      <th>ID</th>\n",
       "      <th>non_null_count</th>\n",
       "      <th>MRI_CNT</th>\n",
       "      <th>NC</th>\n",
       "      <th>MCI</th>\n",
       "      <th>DE</th>\n",
       "      <th>AD</th>\n",
       "      <th>LBD</th>\n",
       "      <th>PDD</th>\n",
       "      <th>DLB</th>\n",
       "      <th>...</th>\n",
       "      <th>bat_RESPDISN</th>\n",
       "      <th>bat_RESPFATG</th>\n",
       "      <th>bat_RESPEMOT</th>\n",
       "      <th>bat_RESPASST</th>\n",
       "      <th>bat_RESPOTH</th>\n",
       "      <th>bat_RESPOTHX</th>\n",
       "      <th>apoe_NACCNE4S</th>\n",
       "      <th>cdr_CDRGLOB</th>\n",
       "      <th>cdr_CDRSUM</th>\n",
       "      <th>mri_zip</th>\n",
       "    </tr>\n",
       "  </thead>\n",
       "  <tbody>\n",
       "  </tbody>\n",
       "</table>\n",
       "<p>0 rows × 464 columns</p>\n",
       "</div>"
      ],
      "text/plain": [
       "Empty DataFrame\n",
       "Columns: [ID, non_null_count, MRI_CNT, NC, MCI, DE, AD, LBD, PDD, DLB, VD, PRD, FTD, NPH, SEF, PSY, TBI, ODE, his_NACCREAS, his_NACCREFR, his_BIRTHMO, his_BIRTHYR, his_SEX, his_HISPANIC, his_HISPOR, his_HISPORX, his_RACE, his_RACEX, his_RACESEC, his_RACESECX, his_RACETER, his_RACETERX, his_PRIMLANG, his_PRIMLANX, his_EDUC, his_MARISTAT, his_LIVSIT, his_INDEPEND, his_RESIDENC, his_HANDED, his_NACCAGE, his_NACCAGEB, his_NACCNIHR, his_NACCFAM, his_NACCMOM, his_NACCDAD, his_NACCFADM, his_NACCAM, his_NACCAMX, his_NACCAMS, his_NACCAMSX, his_NACCFFTD, his_NACCFM, his_NACCFMX, his_NACCFMS, his_NACCFMSX, his_NACCOM, his_NACCOMX, his_NACCOMS, his_NACCOMSX, his_TOBAC30, his_TOBAC100, his_SMOKYRS, his_PACKSPER, his_QUITSMOK, his_ALCOCCAS, his_ALCFREQ, his_CVHATT, his_HATTMULT, his_HATTYEAR, his_CVAFIB, his_CVANGIO, his_CVBYPASS, his_CVPACDEF, his_CVPACE, his_CVCHF, his_CVANGINA, his_CVHVALVE, his_CVOTHR, his_CVOTHRX, his_CBSTROKE, his_STROKMUL, his_NACCSTYR, his_CBTIA, his_TIAMULT, his_NACCTIYR, his_PD, his_PDYR, his_PDOTHR, his_PDOTHRYR, his_SEIZURES, his_TBI, his_TBIBRIEF, his_TRAUMBRF, his_TBIEXTEN, his_TRAUMEXT, his_TBIWOLOS, his_TRAUMCHR, his_TBIYEAR, his_NCOTHR, ...]\n",
       "Index: []\n",
       "\n",
       "[0 rows x 464 columns]"
      ]
     },
     "execution_count": 32,
     "metadata": {},
     "output_type": "execute_result"
    }
   ],
   "source": [
    "merged_vld[(merged_vld['NC'] == 0) & (merged_vld['MCI'] == 0) & (merged_vld['DE'] == 0)]"
   ]
  },
  {
   "cell_type": "code",
   "execution_count": 33,
   "metadata": {},
   "outputs": [
    {
     "data": {
      "text/html": [
       "<div>\n",
       "<style scoped>\n",
       "    .dataframe tbody tr th:only-of-type {\n",
       "        vertical-align: middle;\n",
       "    }\n",
       "\n",
       "    .dataframe tbody tr th {\n",
       "        vertical-align: top;\n",
       "    }\n",
       "\n",
       "    .dataframe thead th {\n",
       "        text-align: right;\n",
       "    }\n",
       "</style>\n",
       "<table border=\"1\" class=\"dataframe\">\n",
       "  <thead>\n",
       "    <tr style=\"text-align: right;\">\n",
       "      <th></th>\n",
       "      <th>ID</th>\n",
       "      <th>non_null_count</th>\n",
       "      <th>MRI_CNT</th>\n",
       "      <th>NC</th>\n",
       "      <th>MCI</th>\n",
       "      <th>DE</th>\n",
       "      <th>AD</th>\n",
       "      <th>LBD</th>\n",
       "      <th>PDD</th>\n",
       "      <th>DLB</th>\n",
       "      <th>...</th>\n",
       "      <th>bat_RESPDISN</th>\n",
       "      <th>bat_RESPFATG</th>\n",
       "      <th>bat_RESPEMOT</th>\n",
       "      <th>bat_RESPASST</th>\n",
       "      <th>bat_RESPOTH</th>\n",
       "      <th>bat_RESPOTHX</th>\n",
       "      <th>apoe_NACCNE4S</th>\n",
       "      <th>cdr_CDRGLOB</th>\n",
       "      <th>cdr_CDRSUM</th>\n",
       "      <th>mri_zip</th>\n",
       "    </tr>\n",
       "  </thead>\n",
       "  <tbody>\n",
       "  </tbody>\n",
       "</table>\n",
       "<p>0 rows × 464 columns</p>\n",
       "</div>"
      ],
      "text/plain": [
       "Empty DataFrame\n",
       "Columns: [ID, non_null_count, MRI_CNT, NC, MCI, DE, AD, LBD, PDD, DLB, VD, PRD, FTD, NPH, SEF, PSY, TBI, ODE, his_NACCREAS, his_NACCREFR, his_BIRTHMO, his_BIRTHYR, his_SEX, his_HISPANIC, his_HISPOR, his_HISPORX, his_RACE, his_RACEX, his_RACESEC, his_RACESECX, his_RACETER, his_RACETERX, his_PRIMLANG, his_PRIMLANX, his_EDUC, his_MARISTAT, his_LIVSIT, his_INDEPEND, his_RESIDENC, his_HANDED, his_NACCAGE, his_NACCAGEB, his_NACCNIHR, his_NACCFAM, his_NACCMOM, his_NACCDAD, his_NACCFADM, his_NACCAM, his_NACCAMX, his_NACCAMS, his_NACCAMSX, his_NACCFFTD, his_NACCFM, his_NACCFMX, his_NACCFMS, his_NACCFMSX, his_NACCOM, his_NACCOMX, his_NACCOMS, his_NACCOMSX, his_TOBAC30, his_TOBAC100, his_SMOKYRS, his_PACKSPER, his_QUITSMOK, his_ALCOCCAS, his_ALCFREQ, his_CVHATT, his_HATTMULT, his_HATTYEAR, his_CVAFIB, his_CVANGIO, his_CVBYPASS, his_CVPACDEF, his_CVPACE, his_CVCHF, his_CVANGINA, his_CVHVALVE, his_CVOTHR, his_CVOTHRX, his_CBSTROKE, his_STROKMUL, his_NACCSTYR, his_CBTIA, his_TIAMULT, his_NACCTIYR, his_PD, his_PDYR, his_PDOTHR, his_PDOTHRYR, his_SEIZURES, his_TBI, his_TBIBRIEF, his_TRAUMBRF, his_TBIEXTEN, his_TRAUMEXT, his_TBIWOLOS, his_TRAUMCHR, his_TBIYEAR, his_NCOTHR, ...]\n",
       "Index: []\n",
       "\n",
       "[0 rows x 464 columns]"
      ]
     },
     "execution_count": 33,
     "metadata": {},
     "output_type": "execute_result"
    }
   ],
   "source": [
    "test[(test['NC'] == 0) & (test['MCI'] == 0) & (test['DE'] == 0)]"
   ]
  },
  {
   "cell_type": "code",
   "execution_count": 34,
   "metadata": {},
   "outputs": [
    {
     "data": {
      "text/html": [
       "<div>\n",
       "<style scoped>\n",
       "    .dataframe tbody tr th:only-of-type {\n",
       "        vertical-align: middle;\n",
       "    }\n",
       "\n",
       "    .dataframe tbody tr th {\n",
       "        vertical-align: top;\n",
       "    }\n",
       "\n",
       "    .dataframe thead th {\n",
       "        text-align: right;\n",
       "    }\n",
       "</style>\n",
       "<table border=\"1\" class=\"dataframe\">\n",
       "  <thead>\n",
       "    <tr style=\"text-align: right;\">\n",
       "      <th></th>\n",
       "      <th>ID</th>\n",
       "      <th>non_null_count</th>\n",
       "      <th>MRI_CNT</th>\n",
       "      <th>NC</th>\n",
       "      <th>MCI</th>\n",
       "      <th>DE</th>\n",
       "      <th>AD</th>\n",
       "      <th>LBD</th>\n",
       "      <th>PDD</th>\n",
       "      <th>DLB</th>\n",
       "      <th>...</th>\n",
       "      <th>bat_RESPDISN</th>\n",
       "      <th>bat_RESPFATG</th>\n",
       "      <th>bat_RESPEMOT</th>\n",
       "      <th>bat_RESPASST</th>\n",
       "      <th>bat_RESPOTH</th>\n",
       "      <th>bat_RESPOTHX</th>\n",
       "      <th>apoe_NACCNE4S</th>\n",
       "      <th>cdr_CDRGLOB</th>\n",
       "      <th>cdr_CDRSUM</th>\n",
       "      <th>mri_zip</th>\n",
       "    </tr>\n",
       "  </thead>\n",
       "  <tbody>\n",
       "  </tbody>\n",
       "</table>\n",
       "<p>0 rows × 464 columns</p>\n",
       "</div>"
      ],
      "text/plain": [
       "Empty DataFrame\n",
       "Columns: [ID, non_null_count, MRI_CNT, NC, MCI, DE, AD, LBD, PDD, DLB, VD, PRD, FTD, NPH, SEF, PSY, TBI, ODE, his_NACCREAS, his_NACCREFR, his_BIRTHMO, his_BIRTHYR, his_SEX, his_HISPANIC, his_HISPOR, his_HISPORX, his_RACE, his_RACEX, his_RACESEC, his_RACESECX, his_RACETER, his_RACETERX, his_PRIMLANG, his_PRIMLANX, his_EDUC, his_MARISTAT, his_LIVSIT, his_INDEPEND, his_RESIDENC, his_HANDED, his_NACCAGE, his_NACCAGEB, his_NACCNIHR, his_NACCFAM, his_NACCMOM, his_NACCDAD, his_NACCFADM, his_NACCAM, his_NACCAMX, his_NACCAMS, his_NACCAMSX, his_NACCFFTD, his_NACCFM, his_NACCFMX, his_NACCFMS, his_NACCFMSX, his_NACCOM, his_NACCOMX, his_NACCOMS, his_NACCOMSX, his_TOBAC30, his_TOBAC100, his_SMOKYRS, his_PACKSPER, his_QUITSMOK, his_ALCOCCAS, his_ALCFREQ, his_CVHATT, his_HATTMULT, his_HATTYEAR, his_CVAFIB, his_CVANGIO, his_CVBYPASS, his_CVPACDEF, his_CVPACE, his_CVCHF, his_CVANGINA, his_CVHVALVE, his_CVOTHR, his_CVOTHRX, his_CBSTROKE, his_STROKMUL, his_NACCSTYR, his_CBTIA, his_TIAMULT, his_NACCTIYR, his_PD, his_PDYR, his_PDOTHR, his_PDOTHRYR, his_SEIZURES, his_TBI, his_TBIBRIEF, his_TRAUMBRF, his_TBIEXTEN, his_TRAUMEXT, his_TBIWOLOS, his_TRAUMCHR, his_TBIYEAR, his_NCOTHR, ...]\n",
       "Index: []\n",
       "\n",
       "[0 rows x 464 columns]"
      ]
     },
     "execution_count": 34,
     "metadata": {},
     "output_type": "execute_result"
    }
   ],
   "source": [
    "merged_train[merged_train['DE'].isna()]"
   ]
  },
  {
   "cell_type": "code",
   "execution_count": 35,
   "metadata": {},
   "outputs": [
    {
     "data": {
      "text/html": [
       "<div>\n",
       "<style scoped>\n",
       "    .dataframe tbody tr th:only-of-type {\n",
       "        vertical-align: middle;\n",
       "    }\n",
       "\n",
       "    .dataframe tbody tr th {\n",
       "        vertical-align: top;\n",
       "    }\n",
       "\n",
       "    .dataframe thead th {\n",
       "        text-align: right;\n",
       "    }\n",
       "</style>\n",
       "<table border=\"1\" class=\"dataframe\">\n",
       "  <thead>\n",
       "    <tr style=\"text-align: right;\">\n",
       "      <th></th>\n",
       "      <th>ID</th>\n",
       "      <th>non_null_count</th>\n",
       "      <th>MRI_CNT</th>\n",
       "      <th>NC</th>\n",
       "      <th>MCI</th>\n",
       "      <th>DE</th>\n",
       "      <th>AD</th>\n",
       "      <th>LBD</th>\n",
       "      <th>PDD</th>\n",
       "      <th>DLB</th>\n",
       "      <th>...</th>\n",
       "      <th>bat_RESPDISN</th>\n",
       "      <th>bat_RESPFATG</th>\n",
       "      <th>bat_RESPEMOT</th>\n",
       "      <th>bat_RESPASST</th>\n",
       "      <th>bat_RESPOTH</th>\n",
       "      <th>bat_RESPOTHX</th>\n",
       "      <th>apoe_NACCNE4S</th>\n",
       "      <th>cdr_CDRGLOB</th>\n",
       "      <th>cdr_CDRSUM</th>\n",
       "      <th>mri_zip</th>\n",
       "    </tr>\n",
       "  </thead>\n",
       "  <tbody>\n",
       "  </tbody>\n",
       "</table>\n",
       "<p>0 rows × 464 columns</p>\n",
       "</div>"
      ],
      "text/plain": [
       "Empty DataFrame\n",
       "Columns: [ID, non_null_count, MRI_CNT, NC, MCI, DE, AD, LBD, PDD, DLB, VD, PRD, FTD, NPH, SEF, PSY, TBI, ODE, his_NACCREAS, his_NACCREFR, his_BIRTHMO, his_BIRTHYR, his_SEX, his_HISPANIC, his_HISPOR, his_HISPORX, his_RACE, his_RACEX, his_RACESEC, his_RACESECX, his_RACETER, his_RACETERX, his_PRIMLANG, his_PRIMLANX, his_EDUC, his_MARISTAT, his_LIVSIT, his_INDEPEND, his_RESIDENC, his_HANDED, his_NACCAGE, his_NACCAGEB, his_NACCNIHR, his_NACCFAM, his_NACCMOM, his_NACCDAD, his_NACCFADM, his_NACCAM, his_NACCAMX, his_NACCAMS, his_NACCAMSX, his_NACCFFTD, his_NACCFM, his_NACCFMX, his_NACCFMS, his_NACCFMSX, his_NACCOM, his_NACCOMX, his_NACCOMS, his_NACCOMSX, his_TOBAC30, his_TOBAC100, his_SMOKYRS, his_PACKSPER, his_QUITSMOK, his_ALCOCCAS, his_ALCFREQ, his_CVHATT, his_HATTMULT, his_HATTYEAR, his_CVAFIB, his_CVANGIO, his_CVBYPASS, his_CVPACDEF, his_CVPACE, his_CVCHF, his_CVANGINA, his_CVHVALVE, his_CVOTHR, his_CVOTHRX, his_CBSTROKE, his_STROKMUL, his_NACCSTYR, his_CBTIA, his_TIAMULT, his_NACCTIYR, his_PD, his_PDYR, his_PDOTHR, his_PDOTHRYR, his_SEIZURES, his_TBI, his_TBIBRIEF, his_TRAUMBRF, his_TBIEXTEN, his_TRAUMEXT, his_TBIWOLOS, his_TRAUMCHR, his_TBIYEAR, his_NCOTHR, ...]\n",
       "Index: []\n",
       "\n",
       "[0 rows x 464 columns]"
      ]
     },
     "execution_count": 35,
     "metadata": {},
     "output_type": "execute_result"
    }
   ],
   "source": [
    "merged_vld[merged_vld['DE'].isna()]"
   ]
  },
  {
   "cell_type": "code",
   "execution_count": 36,
   "metadata": {},
   "outputs": [
    {
     "data": {
      "text/html": [
       "<div>\n",
       "<style scoped>\n",
       "    .dataframe tbody tr th:only-of-type {\n",
       "        vertical-align: middle;\n",
       "    }\n",
       "\n",
       "    .dataframe tbody tr th {\n",
       "        vertical-align: top;\n",
       "    }\n",
       "\n",
       "    .dataframe thead th {\n",
       "        text-align: right;\n",
       "    }\n",
       "</style>\n",
       "<table border=\"1\" class=\"dataframe\">\n",
       "  <thead>\n",
       "    <tr style=\"text-align: right;\">\n",
       "      <th></th>\n",
       "      <th>ID</th>\n",
       "      <th>non_null_count</th>\n",
       "      <th>MRI_CNT</th>\n",
       "      <th>NC</th>\n",
       "      <th>MCI</th>\n",
       "      <th>DE</th>\n",
       "      <th>AD</th>\n",
       "      <th>LBD</th>\n",
       "      <th>PDD</th>\n",
       "      <th>DLB</th>\n",
       "      <th>...</th>\n",
       "      <th>bat_RESPDISN</th>\n",
       "      <th>bat_RESPFATG</th>\n",
       "      <th>bat_RESPEMOT</th>\n",
       "      <th>bat_RESPASST</th>\n",
       "      <th>bat_RESPOTH</th>\n",
       "      <th>bat_RESPOTHX</th>\n",
       "      <th>apoe_NACCNE4S</th>\n",
       "      <th>cdr_CDRGLOB</th>\n",
       "      <th>cdr_CDRSUM</th>\n",
       "      <th>mri_zip</th>\n",
       "    </tr>\n",
       "  </thead>\n",
       "  <tbody>\n",
       "  </tbody>\n",
       "</table>\n",
       "<p>0 rows × 464 columns</p>\n",
       "</div>"
      ],
      "text/plain": [
       "Empty DataFrame\n",
       "Columns: [ID, non_null_count, MRI_CNT, NC, MCI, DE, AD, LBD, PDD, DLB, VD, PRD, FTD, NPH, SEF, PSY, TBI, ODE, his_NACCREAS, his_NACCREFR, his_BIRTHMO, his_BIRTHYR, his_SEX, his_HISPANIC, his_HISPOR, his_HISPORX, his_RACE, his_RACEX, his_RACESEC, his_RACESECX, his_RACETER, his_RACETERX, his_PRIMLANG, his_PRIMLANX, his_EDUC, his_MARISTAT, his_LIVSIT, his_INDEPEND, his_RESIDENC, his_HANDED, his_NACCAGE, his_NACCAGEB, his_NACCNIHR, his_NACCFAM, his_NACCMOM, his_NACCDAD, his_NACCFADM, his_NACCAM, his_NACCAMX, his_NACCAMS, his_NACCAMSX, his_NACCFFTD, his_NACCFM, his_NACCFMX, his_NACCFMS, his_NACCFMSX, his_NACCOM, his_NACCOMX, his_NACCOMS, his_NACCOMSX, his_TOBAC30, his_TOBAC100, his_SMOKYRS, his_PACKSPER, his_QUITSMOK, his_ALCOCCAS, his_ALCFREQ, his_CVHATT, his_HATTMULT, his_HATTYEAR, his_CVAFIB, his_CVANGIO, his_CVBYPASS, his_CVPACDEF, his_CVPACE, his_CVCHF, his_CVANGINA, his_CVHVALVE, his_CVOTHR, his_CVOTHRX, his_CBSTROKE, his_STROKMUL, his_NACCSTYR, his_CBTIA, his_TIAMULT, his_NACCTIYR, his_PD, his_PDYR, his_PDOTHR, his_PDOTHRYR, his_SEIZURES, his_TBI, his_TBIBRIEF, his_TRAUMBRF, his_TBIEXTEN, his_TRAUMEXT, his_TBIWOLOS, his_TRAUMCHR, his_TBIYEAR, his_NCOTHR, ...]\n",
       "Index: []\n",
       "\n",
       "[0 rows x 464 columns]"
      ]
     },
     "execution_count": 36,
     "metadata": {},
     "output_type": "execute_result"
    }
   ],
   "source": [
    "test[test['DE'].isna()]"
   ]
  },
  {
   "cell_type": "code",
   "execution_count": 37,
   "metadata": {},
   "outputs": [
    {
     "data": {
      "text/plain": [
       "28760"
      ]
     },
     "execution_count": 37,
     "metadata": {},
     "output_type": "execute_result"
    }
   ],
   "source": [
    "len(merged_train)"
   ]
  },
  {
   "cell_type": "code",
   "execution_count": 38,
   "metadata": {},
   "outputs": [
    {
     "data": {
      "text/plain": [
       "9559"
      ]
     },
     "execution_count": 38,
     "metadata": {},
     "output_type": "execute_result"
    }
   ],
   "source": [
    "len(merged_vld)"
   ]
  },
  {
   "cell_type": "code",
   "execution_count": 39,
   "metadata": {},
   "outputs": [
    {
     "data": {
      "text/plain": [
       "47214"
      ]
     },
     "execution_count": 39,
     "metadata": {},
     "output_type": "execute_result"
    }
   ],
   "source": [
    "len((merged_train['ID'])) + len((merged_vld['ID'])) + len((test['ID']))"
   ]
  },
  {
   "cell_type": "code",
   "execution_count": 40,
   "metadata": {},
   "outputs": [
    {
     "data": {
      "text/plain": [
       "47214"
      ]
     },
     "execution_count": 40,
     "metadata": {},
     "output_type": "execute_result"
    }
   ],
   "source": [
    "len(set(merged['ID'])) + len(set(nacc_np['ID']).union(set(cli['ID'])))"
   ]
  },
  {
   "cell_type": "code",
   "execution_count": 41,
   "metadata": {},
   "outputs": [
    {
     "data": {
      "text/plain": [
       "set()"
      ]
     },
     "execution_count": 41,
     "metadata": {},
     "output_type": "execute_result"
    }
   ],
   "source": [
    "set(merged_vld['ID']).intersection(set(test['ID']))"
   ]
  },
  {
   "cell_type": "code",
   "execution_count": 42,
   "metadata": {},
   "outputs": [
    {
     "data": {
      "text/plain": [
       "set()"
      ]
     },
     "execution_count": 42,
     "metadata": {},
     "output_type": "execute_result"
    }
   ],
   "source": [
    "set(merged['mri_zip']).intersection(set(nacc_np['mri_zip']).union(set(cli['mri_zip'])))"
   ]
  },
  {
   "cell_type": "code",
   "execution_count": 43,
   "metadata": {},
   "outputs": [],
   "source": [
    "merged_lab_dict = {}\n",
    "merged_trn_lab_dict = {}\n",
    "merged_vld_lab_dict = {}\n",
    "merged_tst_lab_dict = {}\n",
    "merged_ = pd.concat([merged, cli, nacc_np], ignore_index=True).sample(frac=1, random_state=random_state).reset_index(drop=True)\n",
    "merged_.drop_duplicates(inplace=True)\n",
    "for label in ['NC', 'MCI', 'DE', 'AD', 'LBD', 'VD', 'PRD', 'FTD', 'NPH', 'SEF', 'PSY', 'TBI', 'ODE']:\n",
    "    merged_lab_dict[label] = merged_[label].value_counts()\n",
    "    merged_trn_lab_dict[label] = merged_train[label].value_counts()\n",
    "    merged_vld_lab_dict[label] = merged_vld[label].value_counts()\n",
    "    merged_tst_lab_dict[label] = test[label].value_counts()\n",
    "merged_train_ratios = {k:(v[1] / merged_lab_dict[k][1]) for k, v in merged_trn_lab_dict.items()}\n",
    "merged_vld_ratios = {k:(v[1] / merged_lab_dict[k][1]) for k, v in merged_vld_lab_dict.items()}\n",
    "merged_test_ratios = {k:(v[1] / merged_lab_dict[k][1]) for k, v in merged_tst_lab_dict.items()}"
   ]
  },
  {
   "cell_type": "code",
   "execution_count": 44,
   "metadata": {},
   "outputs": [
    {
     "data": {
      "text/plain": [
       "{'NC': 0.6158605476946253,\n",
       " 'MCI': 0.6071245515120451,\n",
       " 'DE': 0.6038995341689478,\n",
       " 'AD': 0.6041127939908878,\n",
       " 'LBD': 0.5953367875647668,\n",
       " 'VD': 0.5977071391349661,\n",
       " 'PRD': 0.5964912280701754,\n",
       " 'FTD': 0.6117992177314211,\n",
       " 'NPH': 0.6014492753623188,\n",
       " 'SEF': 0.6027227722772277,\n",
       " 'PSY': 0.6074074074074074,\n",
       " 'TBI': 0.5962264150943396,\n",
       " 'ODE': 0.6045380875202593}"
      ]
     },
     "execution_count": 44,
     "metadata": {},
     "output_type": "execute_result"
    }
   ],
   "source": [
    "merged_train_ratios"
   ]
  },
  {
   "cell_type": "code",
   "execution_count": 45,
   "metadata": {},
   "outputs": [
    {
     "data": {
      "text/plain": [
       "{'NC': 0.2053047829127885,\n",
       " 'MCI': 0.20246027678113787,\n",
       " 'DE': 0.1999231618882966,\n",
       " 'AD': 0.1994212535402044,\n",
       " 'LBD': 0.19740932642487047,\n",
       " 'VD': 0.20948410630536737,\n",
       " 'PRD': 0.2543859649122807,\n",
       " 'FTD': 0.20404172099087353,\n",
       " 'NPH': 0.2028985507246377,\n",
       " 'SEF': 0.19801980198019803,\n",
       " 'PSY': 0.20037037037037037,\n",
       " 'TBI': 0.2,\n",
       " 'ODE': 0.20178282009724474}"
      ]
     },
     "execution_count": 45,
     "metadata": {},
     "output_type": "execute_result"
    }
   ],
   "source": [
    "merged_vld_ratios"
   ]
  },
  {
   "cell_type": "code",
   "execution_count": 46,
   "metadata": {},
   "outputs": [
    {
     "data": {
      "text/plain": [
       "{'NC': 0.17883466939258622,\n",
       " 'MCI': 0.19041517170681702,\n",
       " 'DE': 0.1961773039427556,\n",
       " 'AD': 0.19646595246890777,\n",
       " 'LBD': 0.20725388601036268,\n",
       " 'VD': 0.1928087545596665,\n",
       " 'PRD': 0.14912280701754385,\n",
       " 'FTD': 0.18415906127770534,\n",
       " 'NPH': 0.1956521739130435,\n",
       " 'SEF': 0.19925742574257427,\n",
       " 'PSY': 0.1922222222222222,\n",
       " 'TBI': 0.2037735849056604,\n",
       " 'ODE': 0.19367909238249595}"
      ]
     },
     "execution_count": 46,
     "metadata": {},
     "output_type": "execute_result"
    }
   ],
   "source": [
    "merged_test_ratios"
   ]
  },
  {
   "cell_type": "code",
   "execution_count": 47,
   "metadata": {},
   "outputs": [
    {
     "data": {
      "text/html": [
       "<div>\n",
       "<style scoped>\n",
       "    .dataframe tbody tr th:only-of-type {\n",
       "        vertical-align: middle;\n",
       "    }\n",
       "\n",
       "    .dataframe tbody tr th {\n",
       "        vertical-align: top;\n",
       "    }\n",
       "\n",
       "    .dataframe thead th {\n",
       "        text-align: right;\n",
       "    }\n",
       "</style>\n",
       "<table border=\"1\" class=\"dataframe\">\n",
       "  <thead>\n",
       "    <tr style=\"text-align: right;\">\n",
       "      <th></th>\n",
       "      <th>ID</th>\n",
       "      <th>non_null_count</th>\n",
       "      <th>MRI_CNT</th>\n",
       "      <th>NC</th>\n",
       "      <th>MCI</th>\n",
       "      <th>DE</th>\n",
       "      <th>AD</th>\n",
       "      <th>LBD</th>\n",
       "      <th>PDD</th>\n",
       "      <th>DLB</th>\n",
       "      <th>...</th>\n",
       "      <th>bat_RESPDISN</th>\n",
       "      <th>bat_RESPFATG</th>\n",
       "      <th>bat_RESPEMOT</th>\n",
       "      <th>bat_RESPASST</th>\n",
       "      <th>bat_RESPOTH</th>\n",
       "      <th>bat_RESPOTHX</th>\n",
       "      <th>apoe_NACCNE4S</th>\n",
       "      <th>cdr_CDRGLOB</th>\n",
       "      <th>cdr_CDRSUM</th>\n",
       "      <th>mri_zip</th>\n",
       "    </tr>\n",
       "  </thead>\n",
       "  <tbody>\n",
       "    <tr>\n",
       "      <th>1226</th>\n",
       "      <td>NACC786466</td>\n",
       "      <td>266.0</td>\n",
       "      <td>0.0</td>\n",
       "      <td>0.0</td>\n",
       "      <td>0.0</td>\n",
       "      <td>1.0</td>\n",
       "      <td>0.0</td>\n",
       "      <td>0.0</td>\n",
       "      <td>0.0</td>\n",
       "      <td>0.0</td>\n",
       "      <td>...</td>\n",
       "      <td>NaN</td>\n",
       "      <td>NaN</td>\n",
       "      <td>NaN</td>\n",
       "      <td>NaN</td>\n",
       "      <td>NaN</td>\n",
       "      <td>NaN</td>\n",
       "      <td>NaN</td>\n",
       "      <td>1.0</td>\n",
       "      <td>4.5</td>\n",
       "      <td>mri9492.zip</td>\n",
       "    </tr>\n",
       "    <tr>\n",
       "      <th>1829</th>\n",
       "      <td>NACC354005</td>\n",
       "      <td>199.0</td>\n",
       "      <td>0.0</td>\n",
       "      <td>0.0</td>\n",
       "      <td>0.0</td>\n",
       "      <td>1.0</td>\n",
       "      <td>1.0</td>\n",
       "      <td>0.0</td>\n",
       "      <td>0.0</td>\n",
       "      <td>0.0</td>\n",
       "      <td>...</td>\n",
       "      <td>NaN</td>\n",
       "      <td>NaN</td>\n",
       "      <td>NaN</td>\n",
       "      <td>NaN</td>\n",
       "      <td>NaN</td>\n",
       "      <td>NaN</td>\n",
       "      <td>2.0</td>\n",
       "      <td>0.5</td>\n",
       "      <td>3.5</td>\n",
       "      <td>mri8569.zip</td>\n",
       "    </tr>\n",
       "    <tr>\n",
       "      <th>4438</th>\n",
       "      <td>NACC566106</td>\n",
       "      <td>198.0</td>\n",
       "      <td>0.0</td>\n",
       "      <td>0.0</td>\n",
       "      <td>0.0</td>\n",
       "      <td>1.0</td>\n",
       "      <td>1.0</td>\n",
       "      <td>0.0</td>\n",
       "      <td>0.0</td>\n",
       "      <td>0.0</td>\n",
       "      <td>...</td>\n",
       "      <td>NaN</td>\n",
       "      <td>NaN</td>\n",
       "      <td>NaN</td>\n",
       "      <td>NaN</td>\n",
       "      <td>NaN</td>\n",
       "      <td>NaN</td>\n",
       "      <td>1.0</td>\n",
       "      <td>2.0</td>\n",
       "      <td>10.0</td>\n",
       "      <td>mri8536.zip</td>\n",
       "    </tr>\n",
       "    <tr>\n",
       "      <th>6115</th>\n",
       "      <td>NACC859532</td>\n",
       "      <td>194.0</td>\n",
       "      <td>3.0</td>\n",
       "      <td>0.0</td>\n",
       "      <td>0.0</td>\n",
       "      <td>1.0</td>\n",
       "      <td>1.0</td>\n",
       "      <td>0.0</td>\n",
       "      <td>0.0</td>\n",
       "      <td>0.0</td>\n",
       "      <td>...</td>\n",
       "      <td>NaN</td>\n",
       "      <td>NaN</td>\n",
       "      <td>NaN</td>\n",
       "      <td>NaN</td>\n",
       "      <td>NaN</td>\n",
       "      <td>NaN</td>\n",
       "      <td>1.0</td>\n",
       "      <td>1.0</td>\n",
       "      <td>6.0</td>\n",
       "      <td>NACC859532_12840113837269926852711609981130.zip</td>\n",
       "    </tr>\n",
       "    <tr>\n",
       "      <th>6843</th>\n",
       "      <td>NACC215530</td>\n",
       "      <td>200.0</td>\n",
       "      <td>5.0</td>\n",
       "      <td>0.0</td>\n",
       "      <td>0.0</td>\n",
       "      <td>1.0</td>\n",
       "      <td>0.0</td>\n",
       "      <td>1.0</td>\n",
       "      <td>0.0</td>\n",
       "      <td>1.0</td>\n",
       "      <td>...</td>\n",
       "      <td>NaN</td>\n",
       "      <td>NaN</td>\n",
       "      <td>NaN</td>\n",
       "      <td>NaN</td>\n",
       "      <td>NaN</td>\n",
       "      <td>NaN</td>\n",
       "      <td>1.0</td>\n",
       "      <td>1.0</td>\n",
       "      <td>5.0</td>\n",
       "      <td>NACC215530_12840113845111000000001814148435200...</td>\n",
       "    </tr>\n",
       "    <tr>\n",
       "      <th>6873</th>\n",
       "      <td>NACC904318</td>\n",
       "      <td>190.0</td>\n",
       "      <td>3.0</td>\n",
       "      <td>0.0</td>\n",
       "      <td>0.0</td>\n",
       "      <td>1.0</td>\n",
       "      <td>1.0</td>\n",
       "      <td>0.0</td>\n",
       "      <td>0.0</td>\n",
       "      <td>0.0</td>\n",
       "      <td>...</td>\n",
       "      <td>NaN</td>\n",
       "      <td>NaN</td>\n",
       "      <td>NaN</td>\n",
       "      <td>NaN</td>\n",
       "      <td>NaN</td>\n",
       "      <td>NaN</td>\n",
       "      <td>1.0</td>\n",
       "      <td>1.0</td>\n",
       "      <td>6.5</td>\n",
       "      <td>mri6766.zip</td>\n",
       "    </tr>\n",
       "    <tr>\n",
       "      <th>8616</th>\n",
       "      <td>NACC646210</td>\n",
       "      <td>211.0</td>\n",
       "      <td>0.0</td>\n",
       "      <td>0.0</td>\n",
       "      <td>0.0</td>\n",
       "      <td>1.0</td>\n",
       "      <td>1.0</td>\n",
       "      <td>0.0</td>\n",
       "      <td>0.0</td>\n",
       "      <td>0.0</td>\n",
       "      <td>...</td>\n",
       "      <td>NaN</td>\n",
       "      <td>NaN</td>\n",
       "      <td>NaN</td>\n",
       "      <td>NaN</td>\n",
       "      <td>NaN</td>\n",
       "      <td>NaN</td>\n",
       "      <td>NaN</td>\n",
       "      <td>0.5</td>\n",
       "      <td>3.0</td>\n",
       "      <td>mri9787.zip</td>\n",
       "    </tr>\n",
       "    <tr>\n",
       "      <th>9378</th>\n",
       "      <td>NACC113051</td>\n",
       "      <td>193.0</td>\n",
       "      <td>0.0</td>\n",
       "      <td>0.0</td>\n",
       "      <td>0.0</td>\n",
       "      <td>1.0</td>\n",
       "      <td>1.0</td>\n",
       "      <td>0.0</td>\n",
       "      <td>0.0</td>\n",
       "      <td>0.0</td>\n",
       "      <td>...</td>\n",
       "      <td>NaN</td>\n",
       "      <td>NaN</td>\n",
       "      <td>NaN</td>\n",
       "      <td>NaN</td>\n",
       "      <td>NaN</td>\n",
       "      <td>NaN</td>\n",
       "      <td>0.0</td>\n",
       "      <td>0.5</td>\n",
       "      <td>4.0</td>\n",
       "      <td>mri7889.zip</td>\n",
       "    </tr>\n",
       "  </tbody>\n",
       "</table>\n",
       "<p>8 rows × 464 columns</p>\n",
       "</div>"
      ],
      "text/plain": [
       "              ID  non_null_count  MRI_CNT   NC  MCI   DE   AD  LBD  PDD  DLB  \\\n",
       "1226  NACC786466           266.0      0.0  0.0  0.0  1.0  0.0  0.0  0.0  0.0   \n",
       "1829  NACC354005           199.0      0.0  0.0  0.0  1.0  1.0  0.0  0.0  0.0   \n",
       "4438  NACC566106           198.0      0.0  0.0  0.0  1.0  1.0  0.0  0.0  0.0   \n",
       "6115  NACC859532           194.0      3.0  0.0  0.0  1.0  1.0  0.0  0.0  0.0   \n",
       "6843  NACC215530           200.0      5.0  0.0  0.0  1.0  0.0  1.0  0.0  1.0   \n",
       "6873  NACC904318           190.0      3.0  0.0  0.0  1.0  1.0  0.0  0.0  0.0   \n",
       "8616  NACC646210           211.0      0.0  0.0  0.0  1.0  1.0  0.0  0.0  0.0   \n",
       "9378  NACC113051           193.0      0.0  0.0  0.0  1.0  1.0  0.0  0.0  0.0   \n",
       "\n",
       "      ...  bat_RESPDISN  bat_RESPFATG  bat_RESPEMOT  bat_RESPASST  \\\n",
       "1226  ...           NaN           NaN           NaN           NaN   \n",
       "1829  ...           NaN           NaN           NaN           NaN   \n",
       "4438  ...           NaN           NaN           NaN           NaN   \n",
       "6115  ...           NaN           NaN           NaN           NaN   \n",
       "6843  ...           NaN           NaN           NaN           NaN   \n",
       "6873  ...           NaN           NaN           NaN           NaN   \n",
       "8616  ...           NaN           NaN           NaN           NaN   \n",
       "9378  ...           NaN           NaN           NaN           NaN   \n",
       "\n",
       "      bat_RESPOTH  bat_RESPOTHX  apoe_NACCNE4S  cdr_CDRGLOB  cdr_CDRSUM  \\\n",
       "1226          NaN           NaN            NaN          1.0         4.5   \n",
       "1829          NaN           NaN            2.0          0.5         3.5   \n",
       "4438          NaN           NaN            1.0          2.0        10.0   \n",
       "6115          NaN           NaN            1.0          1.0         6.0   \n",
       "6843          NaN           NaN            1.0          1.0         5.0   \n",
       "6873          NaN           NaN            1.0          1.0         6.5   \n",
       "8616          NaN           NaN            NaN          0.5         3.0   \n",
       "9378          NaN           NaN            0.0          0.5         4.0   \n",
       "\n",
       "                                                mri_zip  \n",
       "1226                                        mri9492.zip  \n",
       "1829                                        mri8569.zip  \n",
       "4438                                        mri8536.zip  \n",
       "6115    NACC859532_12840113837269926852711609981130.zip  \n",
       "6843  NACC215530_12840113845111000000001814148435200...  \n",
       "6873                                        mri6766.zip  \n",
       "8616                                        mri9787.zip  \n",
       "9378                                        mri7889.zip  \n",
       "\n",
       "[8 rows x 464 columns]"
      ]
     },
     "execution_count": 47,
     "metadata": {},
     "output_type": "execute_result"
    }
   ],
   "source": [
    "merged_vld[(merged_vld['TBI'] == 1) & (~merged_vld['mri_zip'].isna())]"
   ]
  },
  {
   "cell_type": "code",
   "execution_count": 48,
   "metadata": {},
   "outputs": [
    {
     "data": {
      "text/html": [
       "<div>\n",
       "<style scoped>\n",
       "    .dataframe tbody tr th:only-of-type {\n",
       "        vertical-align: middle;\n",
       "    }\n",
       "\n",
       "    .dataframe tbody tr th {\n",
       "        vertical-align: top;\n",
       "    }\n",
       "\n",
       "    .dataframe thead th {\n",
       "        text-align: right;\n",
       "    }\n",
       "</style>\n",
       "<table border=\"1\" class=\"dataframe\">\n",
       "  <thead>\n",
       "    <tr style=\"text-align: right;\">\n",
       "      <th></th>\n",
       "      <th>ID</th>\n",
       "      <th>non_null_count</th>\n",
       "      <th>MRI_CNT</th>\n",
       "      <th>NC</th>\n",
       "      <th>MCI</th>\n",
       "      <th>DE</th>\n",
       "      <th>AD</th>\n",
       "      <th>LBD</th>\n",
       "      <th>PDD</th>\n",
       "      <th>DLB</th>\n",
       "      <th>...</th>\n",
       "      <th>bat_RESPDISN</th>\n",
       "      <th>bat_RESPFATG</th>\n",
       "      <th>bat_RESPEMOT</th>\n",
       "      <th>bat_RESPASST</th>\n",
       "      <th>bat_RESPOTH</th>\n",
       "      <th>bat_RESPOTHX</th>\n",
       "      <th>apoe_NACCNE4S</th>\n",
       "      <th>cdr_CDRGLOB</th>\n",
       "      <th>cdr_CDRSUM</th>\n",
       "      <th>mri_zip</th>\n",
       "    </tr>\n",
       "  </thead>\n",
       "  <tbody>\n",
       "    <tr>\n",
       "      <th>689</th>\n",
       "      <td>NACC191311</td>\n",
       "      <td>211</td>\n",
       "      <td>1.0</td>\n",
       "      <td>0</td>\n",
       "      <td>0</td>\n",
       "      <td>1</td>\n",
       "      <td>1</td>\n",
       "      <td>0</td>\n",
       "      <td>0</td>\n",
       "      <td>0</td>\n",
       "      <td>...</td>\n",
       "      <td>NaN</td>\n",
       "      <td>NaN</td>\n",
       "      <td>NaN</td>\n",
       "      <td>NaN</td>\n",
       "      <td>NaN</td>\n",
       "      <td>NaN</td>\n",
       "      <td>0.0</td>\n",
       "      <td>1.0</td>\n",
       "      <td>8.0</td>\n",
       "      <td>NACC191311_13122110752436602730000016062311441...</td>\n",
       "    </tr>\n",
       "    <tr>\n",
       "      <th>871</th>\n",
       "      <td>NACC073093</td>\n",
       "      <td>186</td>\n",
       "      <td>3.0</td>\n",
       "      <td>0</td>\n",
       "      <td>0</td>\n",
       "      <td>1</td>\n",
       "      <td>1</td>\n",
       "      <td>0</td>\n",
       "      <td>0</td>\n",
       "      <td>0</td>\n",
       "      <td>...</td>\n",
       "      <td>NaN</td>\n",
       "      <td>NaN</td>\n",
       "      <td>NaN</td>\n",
       "      <td>NaN</td>\n",
       "      <td>NaN</td>\n",
       "      <td>NaN</td>\n",
       "      <td>NaN</td>\n",
       "      <td>1.0</td>\n",
       "      <td>8.0</td>\n",
       "      <td>NACC073093_12840113619218210808614785218142879...</td>\n",
       "    </tr>\n",
       "    <tr>\n",
       "      <th>995</th>\n",
       "      <td>NACC747417</td>\n",
       "      <td>200</td>\n",
       "      <td>2.0</td>\n",
       "      <td>0</td>\n",
       "      <td>0</td>\n",
       "      <td>1</td>\n",
       "      <td>0</td>\n",
       "      <td>1</td>\n",
       "      <td>0</td>\n",
       "      <td>1</td>\n",
       "      <td>...</td>\n",
       "      <td>NaN</td>\n",
       "      <td>NaN</td>\n",
       "      <td>NaN</td>\n",
       "      <td>NaN</td>\n",
       "      <td>NaN</td>\n",
       "      <td>NaN</td>\n",
       "      <td>2.0</td>\n",
       "      <td>2.0</td>\n",
       "      <td>9.0</td>\n",
       "      <td>mri5510.zip</td>\n",
       "    </tr>\n",
       "    <tr>\n",
       "      <th>1070</th>\n",
       "      <td>NACC893973</td>\n",
       "      <td>261</td>\n",
       "      <td>4.0</td>\n",
       "      <td>1</td>\n",
       "      <td>0</td>\n",
       "      <td>0</td>\n",
       "      <td>0</td>\n",
       "      <td>0</td>\n",
       "      <td>0</td>\n",
       "      <td>0</td>\n",
       "      <td>...</td>\n",
       "      <td>NaN</td>\n",
       "      <td>NaN</td>\n",
       "      <td>NaN</td>\n",
       "      <td>NaN</td>\n",
       "      <td>NaN</td>\n",
       "      <td>NaN</td>\n",
       "      <td>0.0</td>\n",
       "      <td>0.0</td>\n",
       "      <td>0.0</td>\n",
       "      <td>NACC893973_13122110752323540730000016121313383...</td>\n",
       "    </tr>\n",
       "    <tr>\n",
       "      <th>1355</th>\n",
       "      <td>NACC092622</td>\n",
       "      <td>180</td>\n",
       "      <td>4.0</td>\n",
       "      <td>0</td>\n",
       "      <td>0</td>\n",
       "      <td>1</td>\n",
       "      <td>0</td>\n",
       "      <td>1</td>\n",
       "      <td>0</td>\n",
       "      <td>1</td>\n",
       "      <td>...</td>\n",
       "      <td>NaN</td>\n",
       "      <td>NaN</td>\n",
       "      <td>NaN</td>\n",
       "      <td>NaN</td>\n",
       "      <td>NaN</td>\n",
       "      <td>NaN</td>\n",
       "      <td>1.0</td>\n",
       "      <td>2.0</td>\n",
       "      <td>11.0</td>\n",
       "      <td>NACC092622_12840113619213417628947111858133130...</td>\n",
       "    </tr>\n",
       "    <tr>\n",
       "      <th>...</th>\n",
       "      <td>...</td>\n",
       "      <td>...</td>\n",
       "      <td>...</td>\n",
       "      <td>...</td>\n",
       "      <td>...</td>\n",
       "      <td>...</td>\n",
       "      <td>...</td>\n",
       "      <td>...</td>\n",
       "      <td>...</td>\n",
       "      <td>...</td>\n",
       "      <td>...</td>\n",
       "      <td>...</td>\n",
       "      <td>...</td>\n",
       "      <td>...</td>\n",
       "      <td>...</td>\n",
       "      <td>...</td>\n",
       "      <td>...</td>\n",
       "      <td>...</td>\n",
       "      <td>...</td>\n",
       "      <td>...</td>\n",
       "      <td>...</td>\n",
       "    </tr>\n",
       "    <tr>\n",
       "      <th>44240</th>\n",
       "      <td>NACC959661</td>\n",
       "      <td>194</td>\n",
       "      <td>1.0</td>\n",
       "      <td>0</td>\n",
       "      <td>0</td>\n",
       "      <td>1</td>\n",
       "      <td>0</td>\n",
       "      <td>1</td>\n",
       "      <td>0</td>\n",
       "      <td>1</td>\n",
       "      <td>...</td>\n",
       "      <td>NaN</td>\n",
       "      <td>NaN</td>\n",
       "      <td>NaN</td>\n",
       "      <td>NaN</td>\n",
       "      <td>NaN</td>\n",
       "      <td>NaN</td>\n",
       "      <td>2.0</td>\n",
       "      <td>2.0</td>\n",
       "      <td>13.0</td>\n",
       "      <td>NACC959661_128401143562013722104026376.zip</td>\n",
       "    </tr>\n",
       "    <tr>\n",
       "      <th>44528</th>\n",
       "      <td>NACC683293</td>\n",
       "      <td>132</td>\n",
       "      <td>2.0</td>\n",
       "      <td>0</td>\n",
       "      <td>0</td>\n",
       "      <td>1</td>\n",
       "      <td>1</td>\n",
       "      <td>0</td>\n",
       "      <td>0</td>\n",
       "      <td>0</td>\n",
       "      <td>...</td>\n",
       "      <td>NaN</td>\n",
       "      <td>NaN</td>\n",
       "      <td>NaN</td>\n",
       "      <td>NaN</td>\n",
       "      <td>NaN</td>\n",
       "      <td>NaN</td>\n",
       "      <td>0.0</td>\n",
       "      <td>3.0</td>\n",
       "      <td>18.0</td>\n",
       "      <td>NACC683293_13122110752436602730000017071111532...</td>\n",
       "    </tr>\n",
       "    <tr>\n",
       "      <th>44822</th>\n",
       "      <td>NACC077349</td>\n",
       "      <td>203</td>\n",
       "      <td>2.0</td>\n",
       "      <td>0</td>\n",
       "      <td>0</td>\n",
       "      <td>1</td>\n",
       "      <td>0</td>\n",
       "      <td>1</td>\n",
       "      <td>0</td>\n",
       "      <td>1</td>\n",
       "      <td>...</td>\n",
       "      <td>NaN</td>\n",
       "      <td>NaN</td>\n",
       "      <td>NaN</td>\n",
       "      <td>NaN</td>\n",
       "      <td>NaN</td>\n",
       "      <td>NaN</td>\n",
       "      <td>1.0</td>\n",
       "      <td>1.0</td>\n",
       "      <td>5.5</td>\n",
       "      <td>mri5558.zip</td>\n",
       "    </tr>\n",
       "    <tr>\n",
       "      <th>45140</th>\n",
       "      <td>NACC198306</td>\n",
       "      <td>199</td>\n",
       "      <td>4.0</td>\n",
       "      <td>0</td>\n",
       "      <td>0</td>\n",
       "      <td>1</td>\n",
       "      <td>1</td>\n",
       "      <td>0</td>\n",
       "      <td>0</td>\n",
       "      <td>0</td>\n",
       "      <td>...</td>\n",
       "      <td>NaN</td>\n",
       "      <td>NaN</td>\n",
       "      <td>NaN</td>\n",
       "      <td>NaN</td>\n",
       "      <td>NaN</td>\n",
       "      <td>NaN</td>\n",
       "      <td>1.0</td>\n",
       "      <td>1.0</td>\n",
       "      <td>4.5</td>\n",
       "      <td>mri392.zip</td>\n",
       "    </tr>\n",
       "    <tr>\n",
       "      <th>45282</th>\n",
       "      <td>NACC360674</td>\n",
       "      <td>205</td>\n",
       "      <td>2.0</td>\n",
       "      <td>0</td>\n",
       "      <td>0</td>\n",
       "      <td>1</td>\n",
       "      <td>1</td>\n",
       "      <td>0</td>\n",
       "      <td>0</td>\n",
       "      <td>0</td>\n",
       "      <td>...</td>\n",
       "      <td>NaN</td>\n",
       "      <td>NaN</td>\n",
       "      <td>NaN</td>\n",
       "      <td>NaN</td>\n",
       "      <td>NaN</td>\n",
       "      <td>NaN</td>\n",
       "      <td>0.0</td>\n",
       "      <td>1.0</td>\n",
       "      <td>7.0</td>\n",
       "      <td>mri2901.zip</td>\n",
       "    </tr>\n",
       "  </tbody>\n",
       "</table>\n",
       "<p>282 rows × 464 columns</p>\n",
       "</div>"
      ],
      "text/plain": [
       "               ID  non_null_count  MRI_CNT  NC  MCI  DE  AD  LBD  PDD  DLB  \\\n",
       "689    NACC191311             211      1.0   0    0   1   1    0    0    0   \n",
       "871    NACC073093             186      3.0   0    0   1   1    0    0    0   \n",
       "995    NACC747417             200      2.0   0    0   1   0    1    0    1   \n",
       "1070   NACC893973             261      4.0   1    0   0   0    0    0    0   \n",
       "1355   NACC092622             180      4.0   0    0   1   0    1    0    1   \n",
       "...           ...             ...      ...  ..  ...  ..  ..  ...  ...  ...   \n",
       "44240  NACC959661             194      1.0   0    0   1   0    1    0    1   \n",
       "44528  NACC683293             132      2.0   0    0   1   1    0    0    0   \n",
       "44822  NACC077349             203      2.0   0    0   1   0    1    0    1   \n",
       "45140  NACC198306             199      4.0   0    0   1   1    0    0    0   \n",
       "45282  NACC360674             205      2.0   0    0   1   1    0    0    0   \n",
       "\n",
       "       ...  bat_RESPDISN  bat_RESPFATG  bat_RESPEMOT  bat_RESPASST  \\\n",
       "689    ...           NaN           NaN           NaN           NaN   \n",
       "871    ...           NaN           NaN           NaN           NaN   \n",
       "995    ...           NaN           NaN           NaN           NaN   \n",
       "1070   ...           NaN           NaN           NaN           NaN   \n",
       "1355   ...           NaN           NaN           NaN           NaN   \n",
       "...    ...           ...           ...           ...           ...   \n",
       "44240  ...           NaN           NaN           NaN           NaN   \n",
       "44528  ...           NaN           NaN           NaN           NaN   \n",
       "44822  ...           NaN           NaN           NaN           NaN   \n",
       "45140  ...           NaN           NaN           NaN           NaN   \n",
       "45282  ...           NaN           NaN           NaN           NaN   \n",
       "\n",
       "       bat_RESPOTH  bat_RESPOTHX  apoe_NACCNE4S  cdr_CDRGLOB  cdr_CDRSUM  \\\n",
       "689            NaN           NaN            0.0          1.0         8.0   \n",
       "871            NaN           NaN            NaN          1.0         8.0   \n",
       "995            NaN           NaN            2.0          2.0         9.0   \n",
       "1070           NaN           NaN            0.0          0.0         0.0   \n",
       "1355           NaN           NaN            1.0          2.0        11.0   \n",
       "...            ...           ...            ...          ...         ...   \n",
       "44240          NaN           NaN            2.0          2.0        13.0   \n",
       "44528          NaN           NaN            0.0          3.0        18.0   \n",
       "44822          NaN           NaN            1.0          1.0         5.5   \n",
       "45140          NaN           NaN            1.0          1.0         4.5   \n",
       "45282          NaN           NaN            0.0          1.0         7.0   \n",
       "\n",
       "                                                 mri_zip  \n",
       "689    NACC191311_13122110752436602730000016062311441...  \n",
       "871    NACC073093_12840113619218210808614785218142879...  \n",
       "995                                          mri5510.zip  \n",
       "1070   NACC893973_13122110752323540730000016121313383...  \n",
       "1355   NACC092622_12840113619213417628947111858133130...  \n",
       "...                                                  ...  \n",
       "44240         NACC959661_128401143562013722104026376.zip  \n",
       "44528  NACC683293_13122110752436602730000017071111532...  \n",
       "44822                                        mri5558.zip  \n",
       "45140                                         mri392.zip  \n",
       "45282                                        mri2901.zip  \n",
       "\n",
       "[282 rows x 464 columns]"
      ]
     },
     "execution_count": 48,
     "metadata": {},
     "output_type": "execute_result"
    }
   ],
   "source": [
    "nacc_np"
   ]
  },
  {
   "cell_type": "code",
   "execution_count": 59,
   "metadata": {},
   "outputs": [
    {
     "data": {
      "text/plain": [
       "46764"
      ]
     },
     "execution_count": 59,
     "metadata": {},
     "output_type": "execute_result"
    }
   ],
   "source": [
    "# tmp = pd.read_csv('/home/skowshik/ADRD_repo/data/training_cohorts/merged_data_nacc_nifd_stanford_aibl_ppmi_oasis_rtni_without_np_cli.csv')\n",
    "len(tmp[~tmp['ID'].str.startswith('4RTNI')])"
   ]
  },
  {
   "cell_type": "code",
   "execution_count": 60,
   "metadata": {},
   "outputs": [
    {
     "data": {
      "text/plain": [
       "46764"
      ]
     },
     "execution_count": 60,
     "metadata": {},
     "output_type": "execute_result"
    }
   ],
   "source": [
    "len(merged[~merged['ID'].str.startswith('4RTNI')])"
   ]
  },
  {
   "attachments": {},
   "cell_type": "markdown",
   "metadata": {},
   "source": [
    "## if test file not present"
   ]
  },
  {
   "attachments": {},
   "cell_type": "markdown",
   "metadata": {},
   "source": [
    "#### NACC"
   ]
  },
  {
   "cell_type": "code",
   "execution_count": null,
   "metadata": {},
   "outputs": [],
   "source": [
    "def get_train_split(df, save_path):\n",
    "    nc = df[df['NC'] == 1][:int(0.6 * len(df[df['NC'] == 1]))]\n",
    "    # imci = df[df['IMCI'] == 1][:int(0.6 * len(df[df['IMCI'] == 1]))]\n",
    "    mci = df[df['MCI'] == 1][:int(0.6 * len(df[df['MCI'] == 1]))]\n",
    "    # de = nacc_unique_df_converted[nacc_unique_df_converted['DE'] == 1][:int(0.8 * len(nacc_unique_df_converted[nacc_unique_df_converted['DE'] == 1]))]\n",
    "    ad = df[df['AD'] == 1][:int(0.6 * len(df[df['AD'] == 1]))]\n",
    "    lbd = df[df['LBD'] == 1][:int(0.6 * len(df[df['LBD'] == 1]))]\n",
    "    vd = df[df['VD'] == 1][:int(0.6 * len(df[df['VD'] == 1]))]\n",
    "    prion = df[df['PRD'] == 1][:int(0.7 * len(df[df['PRD'] == 1]))]\n",
    "    ftd = df[df['FTD'] == 1][:int(0.6 * len(df[df['FTD'] == 1]))]\n",
    "    nph = df[df['NPH'] == 1][:int(0.6 * len(df[df['NPH'] == 1]))]\n",
    "    sef = df[df['SEF'] == 1][:int(0.6 * len(df[df['SEF'] == 1]))]\n",
    "    psy = df[df['PSY'] == 1][:int(0.6 * len(df[df['PSY'] == 1]))]\n",
    "    tbi = df[df['TBI'] == 1][:int(0.5 * len(df[df['TBI'] == 1]))]\n",
    "    oc = df[df['ODE'] == 1][:int(0.6 * len(df[df['ODE'] == 1]))]\n",
    "\n",
    "    df_train = pd.concat([nc, mci, ad, lbd, vd, prion, ftd, nph, sef, psy, tbi, oc], ignore_index=True)\n",
    "    df_train = df_train.sample(frac=1, random_state=random_state).reset_index(drop=True)\n",
    "    df_train.drop_duplicates(inplace=True)\n",
    "    # df_train.to_csv(save_path, index=False)\n",
    "    return df_train\n",
    "\n",
    "def get_vld_split(df, save_path, df_train):\n",
    "    nc = df[df['NC'] == 1][int(0.6 * len(df[df['NC'] == 1])):int(0.81 * len(df[df['NC'] == 1]))]\n",
    "    # imci = df[df['IMCI'] == 1][int(0.6 * len(df[df['IMCI'] == 1])):int(0.81 * len(df[df['IMCI'] == 1]))]\n",
    "    mci = df[df['MCI'] == 1][int(0.6 * len(df[df['MCI'] == 1])):int(0.81 * len(df[df['MCI'] == 1]))]\n",
    "    # de = nacc_unique_df_converted[nacc_unique_df_converted['DE'] == 1][:int(0.8 * len(nacc_unique_df_converted[nacc_unique_df_converted['DE'] == 1]))]\n",
    "    ad = df[df['AD'] == 1][int(0.6 * len(df[df['AD'] == 1])):int(0.81 * len(df[df['AD'] == 1]))]\n",
    "    lbd = df[df['LBD'] == 1][int(0.6 * len(df[df['LBD'] == 1])):int(0.81 * len(df[df['LBD'] == 1]))]\n",
    "    vd = df[df['VD'] == 1][int(0.6 * len(df[df['VD'] == 1])):int(0.7 * len(df[df['VD'] == 1]))]\n",
    "    prion = df[df['PRD'] == 1][int(0.7 * len(df[df['PRD'] == 1])):int(0.9 * len(df[df['PRD'] == 1]))]\n",
    "    ftd = df[df['FTD'] == 1][int(0.6 * len(df[df['FTD'] == 1])):int(0.81 * len(df[df['FTD'] == 1]))]\n",
    "    nph = df[df['NPH'] == 1][int(0.6 * len(df[df['NPH'] == 1])):int(0.85 * len(df[df['NPH'] == 1]))]\n",
    "    sef = df[df['SEF'] == 1][int(0.6 * len(df[df['SEF'] == 1])):int(0.81 * len(df[df['SEF'] == 1]))]\n",
    "    psy = df[df['PSY'] == 1][int(0.6 * len(df[df['PSY'] == 1])):int(0.81 * len(df[df['PSY'] == 1]))]\n",
    "    tbi = df[df['TBI'] == 1][int(0.5 * len(df[df['TBI'] == 1])):int(0.6 * len(df[df['TBI'] == 1]))]\n",
    "    oc = df[df['ODE'] == 1][int(0.6 * len(df[df['ODE'] == 1])):int(0.81 * len(df[df['ODE'] == 1]))]\n",
    "\n",
    "    df_vld = pd.concat([nc, mci, ad, lbd, vd, prion, ftd, nph, sef, psy, tbi, oc], ignore_index=True)\n",
    "    df_vld = df_vld.sample(frac=1, random_state=random_state).reset_index(drop=True)\n",
    "    df_vld.drop_duplicates(inplace=True)\n",
    "    df_vld = df_vld[~df_vld['ID'].isin(list(df_train['ID']))]\n",
    "    # df_vld.to_csv(save_path, index=False)\n",
    "    return df_vld\n",
    "\n",
    "def get_test_split(df, save_path, df_train, df_vld):\n",
    "    df_test = df[~df['ID'].isin(list(df_train['ID'])) & ~df['ID'].isin(list(df_vld['ID']))]\n",
    "    df_test = pd.concat([df_test, cli, nacc_np], ignore_index=True).sample(frac=1, random_state=random_state).reset_index(drop=True)\n",
    "    df_test.drop_duplicates(inplace=True)\n",
    "    # df_test.to_csv(save_path, index=False)\n",
    "    return df_test\n",
    "    "
   ]
  },
  {
   "cell_type": "code",
   "execution_count": null,
   "metadata": {},
   "outputs": [],
   "source": [
    "train = get_train_split(nacc_wo_np_cli, '/home/skowshik/ADRD_repo/pipeline_v1_main/adrd_tool/data/training_cohorts/train_vld_test_split/nacc_train.csv')\n",
    "vld = get_vld_split(nacc_wo_np_cli, '/home/skowshik/ADRD_repo/pipeline_v1_main/adrd_tool/data/training_cohorts/train_vld_test_split/nacc_vld.csv', train)\n",
    "test = get_test_split(nacc_wo_np_cli, '/home/skowshik/ADRD_repo/pipeline_v1_main/adrd_tool/data/training_cohorts/train_vld_test_split/nacc_test_with_np_cli.csv', train, vld)"
   ]
  },
  {
   "cell_type": "code",
   "execution_count": null,
   "metadata": {},
   "outputs": [],
   "source": [
    "test['his_TBI'].value_counts()"
   ]
  },
  {
   "cell_type": "code",
   "execution_count": null,
   "metadata": {},
   "outputs": [],
   "source": [
    "len(set(nacc['ID']))"
   ]
  },
  {
   "cell_type": "code",
   "execution_count": null,
   "metadata": {},
   "outputs": [],
   "source": [
    "len(set(train['ID'])) + len(set(vld['ID'])) + len(set(test['ID']))"
   ]
  },
  {
   "cell_type": "code",
   "execution_count": null,
   "metadata": {},
   "outputs": [],
   "source": [
    "len(test['ID'])"
   ]
  },
  {
   "cell_type": "code",
   "execution_count": null,
   "metadata": {},
   "outputs": [],
   "source": [
    "len(vld)"
   ]
  },
  {
   "cell_type": "code",
   "execution_count": null,
   "metadata": {},
   "outputs": [],
   "source": [
    "nacc_lab_dict = {}\n",
    "nacc_trn_lab_dict = {}\n",
    "nacc_vld_lab_dict = {}\n",
    "nacc_tst_lab_dict = {}\n",
    "for label in ['NC', 'MCI', 'DE', 'AD', 'LBD', 'PDD', 'DLB', 'VD', 'PRD', 'FTD', 'NPH', 'SEF', 'PSY', 'TBI', 'ODE']:\n",
    "    nacc_lab_dict[label] = nacc[label].value_counts()\n",
    "    nacc_trn_lab_dict[label] = train[label].value_counts()\n",
    "    nacc_vld_lab_dict[label] = vld[label].value_counts()\n",
    "    nacc_tst_lab_dict[label] = test[label].value_counts()\n",
    "train_ratios = {k:(v[1] / nacc_lab_dict[k][1]) for k, v in nacc_trn_lab_dict.items()}\n",
    "vld_ratios = {k:(v[1] / nacc_lab_dict[k][1]) for k, v in nacc_vld_lab_dict.items()}\n",
    "test_ratios = {k:(v[1] / nacc_lab_dict[k][1]) for k, v in nacc_tst_lab_dict.items()}"
   ]
  },
  {
   "cell_type": "code",
   "execution_count": null,
   "metadata": {},
   "outputs": [],
   "source": [
    "train_ratios"
   ]
  },
  {
   "cell_type": "code",
   "execution_count": null,
   "metadata": {},
   "outputs": [],
   "source": [
    "vld_ratios"
   ]
  },
  {
   "cell_type": "code",
   "execution_count": null,
   "metadata": {},
   "outputs": [],
   "source": [
    "test_ratios"
   ]
  },
  {
   "cell_type": "code",
   "execution_count": null,
   "metadata": {},
   "outputs": [],
   "source": [
    "len(set(train['ID']).intersection(set(vld['ID'])))"
   ]
  },
  {
   "cell_type": "code",
   "execution_count": null,
   "metadata": {},
   "outputs": [],
   "source": [
    "len(set(vld['ID']) - (set(nacc['ID'])))"
   ]
  },
  {
   "cell_type": "code",
   "execution_count": null,
   "metadata": {},
   "outputs": [],
   "source": [
    "train['his_NACCNIHR'].value_counts()"
   ]
  },
  {
   "attachments": {},
   "cell_type": "markdown",
   "metadata": {},
   "source": [
    "#### merged"
   ]
  },
  {
   "cell_type": "code",
   "execution_count": null,
   "metadata": {},
   "outputs": [],
   "source": [
    "merged[merged['ID'].isin(nacc_np['ID'])]"
   ]
  },
  {
   "cell_type": "code",
   "execution_count": null,
   "metadata": {},
   "outputs": [],
   "source": [
    "merged_train_vld = merged[~merged['ID'].isin(list(test['ID']))]\n",
    "n = merged_train_vld['ID'].isna().sum()\n",
    "replacement_values = range(1, n + 1)\n",
    "merged_train_vld_rep = copy.deepcopy(merged_train_vld)\n",
    "merged_train_vld_rep.loc[merged_train_vld_rep['ID'].isna(), 'ID'] = replacement_values"
   ]
  },
  {
   "cell_type": "code",
   "execution_count": null,
   "metadata": {},
   "outputs": [],
   "source": [
    "len(set(merged_train_vld_rep['ID']))"
   ]
  },
  {
   "cell_type": "code",
   "execution_count": null,
   "metadata": {},
   "outputs": [],
   "source": [
    "len(merged_train_vld_rep)"
   ]
  },
  {
   "cell_type": "code",
   "execution_count": null,
   "metadata": {},
   "outputs": [],
   "source": [
    "def get_train_split_merged(df, save_path):\n",
    "    nc = df[df['NC'] == 1][:int(0.73 * len(df[df['NC'] == 1]))]\n",
    "    # imci = df[df['IMCI'] == 1][:int(0.75 * len(df[df['IMCI'] == 1]))]\n",
    "    mci = df[df['MCI'] == 1][:int(0.75 * len(df[df['MCI'] == 1]))]\n",
    "    # de = nacc_unique_df_converted[nacc_unique_df_converted['DE'] == 1][:int(0.8 * len(nacc_unique_df_converted[nacc_unique_df_converted['DE'] == 1]))]\n",
    "    ad = df[df['AD'] == 1][:int(0.75 * len(df[df['AD'] == 1]))]\n",
    "    lbd = df[df['LBD'] == 1][:int(0.75 * len(df[df['LBD'] == 1]))]\n",
    "    vd = df[df['VD'] == 1][:int(0.7 * len(df[df['VD'] == 1]))]\n",
    "    prion = df[df['PRD'] == 1][:int(0.75 * len(df[df['PRD'] == 1]))]\n",
    "    ftd = df[df['FTD'] == 1][:int(0.75 * len(df[df['FTD'] == 1]))]\n",
    "    nph = df[df['NPH'] == 1][:int(0.7 * len(df[df['NPH'] == 1]))]\n",
    "    sef = df[df['SEF'] == 1][:int(0.7 * len(df[df['SEF'] == 1]))]\n",
    "    psy = df[df['PSY'] == 1][:int(0.7 * len(df[df['PSY'] == 1]))]\n",
    "    tbi = df[df['TBI'] == 1][:int(0.6 * len(df[df['TBI'] == 1]))]\n",
    "    oc = df[df['ODE'] == 1][:int(0.75 * len(df[df['ODE'] == 1]))]\n",
    "\n",
    "    df_train = pd.concat([nc, mci, ad, lbd, vd, prion, ftd, nph, sef, psy, tbi, oc], ignore_index=True)\n",
    "    df_train = df_train.sample(frac=1, random_state=random_state).reset_index(drop=True)\n",
    "    df_train.drop_duplicates(inplace=True)\n",
    "    df_train_1 = copy.deepcopy(df_train)\n",
    "    df_train_1.loc[~df_train_1['ID'].astype(str).str.startswith('NACC'), 'ID'] = np.nan\n",
    "    # df_train_1.to_csv(save_path, index=False)\n",
    "    # print(df_train_1['ID'])\n",
    "    return df_train_1, df_train\n",
    "\n",
    "def get_vld_split_merged(df, save_path, df_train):\n",
    "    df_vld = df[~df['ID'].isin(list(df_train['ID']))]\n",
    "    df_vld_1 = copy.deepcopy(df_vld)\n",
    "    df_vld_1.loc[~df_vld_1['ID'].astype(str).str.startswith('NACC'), 'ID'] = np.nan\n",
    "    # df_vld_1.to_csv(save_path, index=False)\n",
    "    return df_vld_1, df_vld"
   ]
  },
  {
   "cell_type": "code",
   "execution_count": null,
   "metadata": {},
   "outputs": [],
   "source": [
    "merged_train_1, merged_train = get_train_split_merged(merged_train_vld_rep, '/home/skowshik/ADRD_repo/pipeline_v1_main/adrd_tool/data/training_cohorts/train_vld_test_split/merged_train.csv')\n",
    "merged_vld_1, merged_vld = get_vld_split_merged(merged_train_vld_rep, '/home/skowshik/ADRD_repo/pipeline_v1_main/adrd_tool/data/training_cohorts/train_vld_test_split/merged_vld.csv', merged_train)"
   ]
  },
  {
   "cell_type": "code",
   "execution_count": null,
   "metadata": {},
   "outputs": [],
   "source": [
    "x = merged_train_1[~merged_train_1['ID'].isna()]\n",
    "x['ID'] = x['ID'].astype(str)\n",
    "x[x['ID'].str.startswith('1_S')]"
   ]
  },
  {
   "cell_type": "code",
   "execution_count": null,
   "metadata": {},
   "outputs": [],
   "source": [
    "merged_lab_dict = {}\n",
    "merged_trn_lab_dict = {}\n",
    "merged_vld_lab_dict = {}\n",
    "merged_tst_lab_dict = {}\n",
    "for label in ['NC', 'MCI', 'DE', 'AD', 'LBD', 'PDD', 'DLB', 'VD', 'PRD', 'FTD', 'NPH', 'SEF', 'PSY', 'TBI', 'ODE']:\n",
    "    merged_lab_dict[label] = merged[label].value_counts()\n",
    "    merged_trn_lab_dict[label] = merged_train_1[label].value_counts()\n",
    "    merged_vld_lab_dict[label] = merged_vld_1[label].value_counts()\n",
    "    merged_tst_lab_dict[label] = test[label].value_counts()\n",
    "merged_train_ratios = {k:(v[1] / merged_lab_dict[k][1]) for k, v in merged_trn_lab_dict.items()}\n",
    "merged_vld_ratios = {k:(v[1] / merged_lab_dict[k][1]) for k, v in merged_vld_lab_dict.items()}\n",
    "merged_test_ratios = {k:(v[1] / merged_lab_dict[k][1]) for k, v in merged_tst_lab_dict.items()}"
   ]
  },
  {
   "cell_type": "code",
   "execution_count": null,
   "metadata": {},
   "outputs": [],
   "source": [
    "len(merged_vld)"
   ]
  },
  {
   "cell_type": "code",
   "execution_count": null,
   "metadata": {},
   "outputs": [],
   "source": [
    "len(set(merged['ID']))"
   ]
  },
  {
   "cell_type": "code",
   "execution_count": null,
   "metadata": {},
   "outputs": [],
   "source": [
    "len(merged_train) + len(merged_vld) + len(test)"
   ]
  },
  {
   "cell_type": "code",
   "execution_count": null,
   "metadata": {},
   "outputs": [],
   "source": [
    "len(merged) + len(set(nacc_np['ID']).union(set(cli['ID'])))"
   ]
  },
  {
   "cell_type": "code",
   "execution_count": null,
   "metadata": {},
   "outputs": [],
   "source": [
    "set(merged['mri_zip']).intersection(set(nacc_np['mri_zip']).union(set(cli['mri_zip'])))"
   ]
  },
  {
   "cell_type": "code",
   "execution_count": null,
   "metadata": {},
   "outputs": [],
   "source": [
    "merged_train_ratios"
   ]
  },
  {
   "cell_type": "code",
   "execution_count": null,
   "metadata": {},
   "outputs": [],
   "source": [
    "merged_vld_ratios"
   ]
  },
  {
   "cell_type": "code",
   "execution_count": null,
   "metadata": {},
   "outputs": [],
   "source": [
    "merged_test_ratios"
   ]
  },
  {
   "cell_type": "code",
   "execution_count": null,
   "metadata": {},
   "outputs": [],
   "source": [
    "len(set(merged_train['ID']).intersection(set(nacc_np['ID'])))"
   ]
  },
  {
   "cell_type": "code",
   "execution_count": null,
   "metadata": {},
   "outputs": [],
   "source": [
    "len(set(merged_vld['ID']).intersection(set(merged_train['ID'])))"
   ]
  },
  {
   "cell_type": "code",
   "execution_count": null,
   "metadata": {},
   "outputs": [],
   "source": []
  },
  {
   "cell_type": "code",
   "execution_count": null,
   "metadata": {},
   "outputs": [],
   "source": []
  }
 ],
 "metadata": {
  "kernelspec": {
   "display_name": "adrd",
   "language": "python",
   "name": "python3"
  },
  "language_info": {
   "codemirror_mode": {
    "name": "ipython",
    "version": 3
   },
   "file_extension": ".py",
   "mimetype": "text/x-python",
   "name": "python",
   "nbconvert_exporter": "python",
   "pygments_lexer": "ipython3",
   "version": "3.11.0"
  },
  "orig_nbformat": 4,
  "vscode": {
   "interpreter": {
    "hash": "a2fee1eeda00f634ef393c368cf80d2602caace706932955f6e4df5f01719481"
   }
  }
 },
 "nbformat": 4,
 "nbformat_minor": 2
}
