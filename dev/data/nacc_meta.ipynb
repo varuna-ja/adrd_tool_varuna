{
 "cells": [
  {
   "cell_type": "code",
   "execution_count": 1,
   "metadata": {},
   "outputs": [],
   "source": [
    "import pandas as pd\n",
    "import numpy as np\n",
    "import os\n",
    "import re\n",
    "from icecream import ic\n",
    "from collections import defaultdict"
   ]
  },
  {
   "cell_type": "code",
   "execution_count": 26,
   "metadata": {},
   "outputs": [],
   "source": [
    "import warnings\n",
    "warnings.filterwarnings(\"ignore\")"
   ]
  },
  {
   "cell_type": "code",
   "execution_count": 7,
   "metadata": {},
   "outputs": [],
   "source": [
    "basedir = '../../data'\n",
    "fname = 'training_cohorts/merged_data_nacc_nifd_stanford_aibl_ppmi_oasis_rtni.csv'\n",
    "# fname = 'train_vld_test_split_updated/adni_revised_labels.csv'\n",
    "data = pd.read_csv(f'{basedir}/{fname}')\n",
    "# data = pd.read_csv('/home/skowshik/ADRD_repo/pipeline_v1_main/adrd_tool/data/train_vld_test_split_updated/bmc_revised.csv')\n",
    "# data = pd.read_csv('/home/skowshik/ADRD_repo/pipeline_v1_main/adrd_tool/data/training_cohorts/new_nacc_revised_selection.csv')\n",
    "# meta1 = pd.read_csv(\"/home/skowshik/ADRD_repo/pipeline_v1_main/adrd_tool/dev/data/meta_files/tmp.csv\")\n",
    "# data.drop(['Unnamed: 0'], axis=1, inplace=True)"
   ]
  },
  {
   "cell_type": "code",
   "execution_count": 8,
   "metadata": {},
   "outputs": [
    {
     "data": {
      "text/plain": [
       "0.0    28012\n",
       "1.0     8473\n",
       "2.0     5099\n",
       "4.0     2288\n",
       "5.0      743\n",
       "3.0      471\n",
       "Name: his_MARISTAT, dtype: int64"
      ]
     },
     "execution_count": 8,
     "metadata": {},
     "output_type": "execute_result"
    }
   ],
   "source": [
    "data['his_MARISTAT'].value_counts()"
   ]
  },
  {
   "cell_type": "code",
   "execution_count": 9,
   "metadata": {},
   "outputs": [
    {
     "data": {
      "text/plain": [
       "{'ID'}"
      ]
     },
     "execution_count": 9,
     "metadata": {},
     "output_type": "execute_result"
    }
   ],
   "source": [
    "set(data.columns) - set(meta1['name'])"
   ]
  },
  {
   "cell_type": "code",
   "execution_count": null,
   "metadata": {},
   "outputs": [],
   "source": []
  },
  {
   "cell_type": "code",
   "execution_count": 10,
   "metadata": {},
   "outputs": [
    {
     "data": {
      "text/plain": [
       "464"
      ]
     },
     "execution_count": 10,
     "metadata": {},
     "output_type": "execute_result"
    }
   ],
   "source": [
    "len(data.columns)"
   ]
  },
  {
   "cell_type": "code",
   "execution_count": 11,
   "metadata": {},
   "outputs": [
    {
     "data": {
      "text/plain": [
       "'N'"
      ]
     },
     "execution_count": 11,
     "metadata": {},
     "output_type": "execute_result"
    }
   ],
   "source": [
    "meta1[meta1['name'] == 'his_EDUC']['type'].iloc[0]"
   ]
  },
  {
   "cell_type": "code",
   "execution_count": 12,
   "metadata": {},
   "outputs": [
    {
     "data": {
      "text/plain": [
       "True"
      ]
     },
     "execution_count": 12,
     "metadata": {},
     "output_type": "execute_result"
    }
   ],
   "source": [
    "'NC' in dict(meta1['name']).values()"
   ]
  },
  {
   "cell_type": "code",
   "execution_count": 13,
   "metadata": {},
   "outputs": [
    {
     "data": {
      "text/html": [
       "<div>\n",
       "<style scoped>\n",
       "    .dataframe tbody tr th:only-of-type {\n",
       "        vertical-align: middle;\n",
       "    }\n",
       "\n",
       "    .dataframe tbody tr th {\n",
       "        vertical-align: top;\n",
       "    }\n",
       "\n",
       "    .dataframe thead th {\n",
       "        text-align: right;\n",
       "    }\n",
       "</style>\n",
       "<table border=\"1\" class=\"dataframe\">\n",
       "  <thead>\n",
       "    <tr style=\"text-align: right;\">\n",
       "      <th></th>\n",
       "      <th>name</th>\n",
       "      <th>missing_rate</th>\n",
       "      <th>type</th>\n",
       "      <th>num_unique_values</th>\n",
       "      <th>length</th>\n",
       "      <th>unique_values</th>\n",
       "    </tr>\n",
       "  </thead>\n",
       "  <tbody>\n",
       "    <tr>\n",
       "      <th>0</th>\n",
       "      <td>non_null_count</td>\n",
       "      <td>0.04</td>\n",
       "      <td>NaN</td>\n",
       "      <td>226</td>\n",
       "      <td>1</td>\n",
       "      <td>[198.0, 146.0, 202.0, 259.0, 191.0, 200.0, 71....</td>\n",
       "    </tr>\n",
       "    <tr>\n",
       "      <th>1</th>\n",
       "      <td>MRI_CNT</td>\n",
       "      <td>0.87</td>\n",
       "      <td>NaN</td>\n",
       "      <td>7</td>\n",
       "      <td>1</td>\n",
       "      <td>[3.0, 4.0, 1.0, 5.0, 0.0, 2.0, 6.0]</td>\n",
       "    </tr>\n",
       "    <tr>\n",
       "      <th>2</th>\n",
       "      <td>NC</td>\n",
       "      <td>0.00</td>\n",
       "      <td>C</td>\n",
       "      <td>2</td>\n",
       "      <td>1</td>\n",
       "      <td>[0.0, 1.0]</td>\n",
       "    </tr>\n",
       "    <tr>\n",
       "      <th>3</th>\n",
       "      <td>MCI</td>\n",
       "      <td>0.00</td>\n",
       "      <td>C</td>\n",
       "      <td>2</td>\n",
       "      <td>1</td>\n",
       "      <td>[1.0, 0.0]</td>\n",
       "    </tr>\n",
       "    <tr>\n",
       "      <th>4</th>\n",
       "      <td>DE</td>\n",
       "      <td>0.00</td>\n",
       "      <td>C</td>\n",
       "      <td>2</td>\n",
       "      <td>1</td>\n",
       "      <td>[0.0, 1.0]</td>\n",
       "    </tr>\n",
       "    <tr>\n",
       "      <th>...</th>\n",
       "      <td>...</td>\n",
       "      <td>...</td>\n",
       "      <td>...</td>\n",
       "      <td>...</td>\n",
       "      <td>...</td>\n",
       "      <td>...</td>\n",
       "    </tr>\n",
       "    <tr>\n",
       "      <th>458</th>\n",
       "      <td>bat_RESPOTHX</td>\n",
       "      <td>1.00</td>\n",
       "      <td>C</td>\n",
       "      <td>29</td>\n",
       "      <td>1</td>\n",
       "      <td>['severe aphasia', 'headache', 'language barri...</td>\n",
       "    </tr>\n",
       "    <tr>\n",
       "      <th>459</th>\n",
       "      <td>apoe_NACCNE4S</td>\n",
       "      <td>0.27</td>\n",
       "      <td>C</td>\n",
       "      <td>3</td>\n",
       "      <td>1</td>\n",
       "      <td>[0.0, 2.0, 1.0]</td>\n",
       "    </tr>\n",
       "    <tr>\n",
       "      <th>460</th>\n",
       "      <td>cdr_CDRGLOB</td>\n",
       "      <td>0.01</td>\n",
       "      <td>N</td>\n",
       "      <td>5</td>\n",
       "      <td>1</td>\n",
       "      <td>[0.5, 0.0, 1.0, 3.0, 2.0]</td>\n",
       "    </tr>\n",
       "    <tr>\n",
       "      <th>461</th>\n",
       "      <td>cdr_CDRSUM</td>\n",
       "      <td>0.02</td>\n",
       "      <td>N</td>\n",
       "      <td>33</td>\n",
       "      <td>1</td>\n",
       "      <td>[0.5, 2.5, 1.5, 0.0, 5.5, 15.0, 6.5, 12.0, 2.0...</td>\n",
       "    </tr>\n",
       "    <tr>\n",
       "      <th>462</th>\n",
       "      <td>mri_zip</td>\n",
       "      <td>0.87</td>\n",
       "      <td>N</td>\n",
       "      <td>6239</td>\n",
       "      <td>1</td>\n",
       "      <td>['NACC000511_128401136196374286166399658190153...</td>\n",
       "    </tr>\n",
       "  </tbody>\n",
       "</table>\n",
       "<p>463 rows × 6 columns</p>\n",
       "</div>"
      ],
      "text/plain": [
       "               name  missing_rate type  num_unique_values  length  \\\n",
       "0    non_null_count          0.04  NaN                226       1   \n",
       "1           MRI_CNT          0.87  NaN                  7       1   \n",
       "2                NC          0.00    C                  2       1   \n",
       "3               MCI          0.00    C                  2       1   \n",
       "4                DE          0.00    C                  2       1   \n",
       "..              ...           ...  ...                ...     ...   \n",
       "458    bat_RESPOTHX          1.00    C                 29       1   \n",
       "459   apoe_NACCNE4S          0.27    C                  3       1   \n",
       "460     cdr_CDRGLOB          0.01    N                  5       1   \n",
       "461      cdr_CDRSUM          0.02    N                 33       1   \n",
       "462         mri_zip          0.87    N               6239       1   \n",
       "\n",
       "                                         unique_values  \n",
       "0    [198.0, 146.0, 202.0, 259.0, 191.0, 200.0, 71....  \n",
       "1                  [3.0, 4.0, 1.0, 5.0, 0.0, 2.0, 6.0]  \n",
       "2                                           [0.0, 1.0]  \n",
       "3                                           [1.0, 0.0]  \n",
       "4                                           [0.0, 1.0]  \n",
       "..                                                 ...  \n",
       "458  ['severe aphasia', 'headache', 'language barri...  \n",
       "459                                    [0.0, 2.0, 1.0]  \n",
       "460                          [0.5, 0.0, 1.0, 3.0, 2.0]  \n",
       "461  [0.5, 2.5, 1.5, 0.0, 5.5, 15.0, 6.5, 12.0, 2.0...  \n",
       "462  ['NACC000511_128401136196374286166399658190153...  \n",
       "\n",
       "[463 rows x 6 columns]"
      ]
     },
     "execution_count": 13,
     "metadata": {},
     "output_type": "execute_result"
    }
   ],
   "source": [
    "meta1"
   ]
  },
  {
   "cell_type": "code",
   "execution_count": 14,
   "metadata": {},
   "outputs": [],
   "source": [
    "meta = defaultdict()\n",
    "percent_missing = dict(data.isnull().sum() / len(data))\n",
    "for i, col in enumerate(data.columns):\n",
    "    if col == 'filename' or col == 'ID':\n",
    "        continue\n",
    "    \n",
    "    # print(col)\n",
    "    # print(meta1[meta1['name'] == col]['type'].iloc[0])\n",
    "    meta[col] = {}\n",
    "    meta[col]['name'] = col\n",
    "    meta[col]['unique_values'] = list(data[col].dropna().unique())\n",
    "    meta[col]['num_unique_values'] = len(meta[col]['unique_values'])\n",
    "    meta[col]['length'] = 1\n",
    "    # if meta[col]['num_unique_values'] <= 4 or type(meta[col]['unique_values'][0]) == str:\n",
    "    #     meta[col]['type'] = 'C'\n",
    "    # else:\n",
    "    #     meta[col]['type'] = 'N'\n",
    "    # if col in dict(meta1['name']).values():\n",
    "    #     meta[col]['type'] = meta1[meta1['name'] == col]['type'].iloc[0]\n",
    "    # else:\n",
    "    #     if meta[col]['num_unique_values'] == 2:\n",
    "    #         meta[col]['type'] = 'C'\n",
    "    #     else:\n",
    "    meta[col]['type'] = 'N'\n",
    "    meta[col]['missing_rate'] = round(percent_missing[col], 2)\n",
    "# meta['img_MRI_T1'] = {'name': 'img_MRI_T1', 'type': 'M'}"
   ]
  },
  {
   "cell_type": "code",
   "execution_count": 15,
   "metadata": {},
   "outputs": [],
   "source": [
    "df = pd.DataFrame(meta).T[['name', 'missing_rate', 'type', 'num_unique_values', 'length', 'unique_values']]"
   ]
  },
  {
   "cell_type": "code",
   "execution_count": 16,
   "metadata": {},
   "outputs": [
    {
     "data": {
      "text/plain": [
       "set()"
      ]
     },
     "execution_count": 16,
     "metadata": {},
     "output_type": "execute_result"
    }
   ],
   "source": [
    "set(df['name']) - set(meta1['name'])"
   ]
  },
  {
   "cell_type": "code",
   "execution_count": 17,
   "metadata": {},
   "outputs": [
    {
     "data": {
      "text/plain": [
       "C    352\n",
       "N    109\n",
       "Name: type, dtype: int64"
      ]
     },
     "execution_count": 17,
     "metadata": {},
     "output_type": "execute_result"
    }
   ],
   "source": [
    "df['type'].value_counts()"
   ]
  },
  {
   "cell_type": "code",
   "execution_count": 18,
   "metadata": {},
   "outputs": [
    {
     "data": {
      "text/plain": [
       "C    352\n",
       "N    109\n",
       "Name: type, dtype: int64"
      ]
     },
     "execution_count": 18,
     "metadata": {},
     "output_type": "execute_result"
    }
   ],
   "source": [
    "meta1['type'].value_counts()"
   ]
  },
  {
   "cell_type": "code",
   "execution_count": 19,
   "metadata": {},
   "outputs": [
    {
     "data": {
      "text/html": [
       "<div>\n",
       "<style scoped>\n",
       "    .dataframe tbody tr th:only-of-type {\n",
       "        vertical-align: middle;\n",
       "    }\n",
       "\n",
       "    .dataframe tbody tr th {\n",
       "        vertical-align: top;\n",
       "    }\n",
       "\n",
       "    .dataframe thead th {\n",
       "        text-align: right;\n",
       "    }\n",
       "</style>\n",
       "<table border=\"1\" class=\"dataframe\">\n",
       "  <thead>\n",
       "    <tr style=\"text-align: right;\">\n",
       "      <th></th>\n",
       "      <th>name</th>\n",
       "      <th>missing_rate</th>\n",
       "      <th>type</th>\n",
       "      <th>num_unique_values</th>\n",
       "      <th>length</th>\n",
       "      <th>unique_values</th>\n",
       "    </tr>\n",
       "  </thead>\n",
       "  <tbody>\n",
       "    <tr>\n",
       "      <th>non_null_count</th>\n",
       "      <td>non_null_count</td>\n",
       "      <td>0.04</td>\n",
       "      <td>NaN</td>\n",
       "      <td>226</td>\n",
       "      <td>1</td>\n",
       "      <td>[198.0, 146.0, 202.0, 259.0, 191.0, 200.0, 71....</td>\n",
       "    </tr>\n",
       "    <tr>\n",
       "      <th>MRI_CNT</th>\n",
       "      <td>MRI_CNT</td>\n",
       "      <td>0.87</td>\n",
       "      <td>NaN</td>\n",
       "      <td>7</td>\n",
       "      <td>1</td>\n",
       "      <td>[3.0, 4.0, 1.0, 5.0, 0.0, 2.0, 6.0]</td>\n",
       "    </tr>\n",
       "    <tr>\n",
       "      <th>NC</th>\n",
       "      <td>NC</td>\n",
       "      <td>0.0</td>\n",
       "      <td>C</td>\n",
       "      <td>2</td>\n",
       "      <td>1</td>\n",
       "      <td>[0.0, 1.0]</td>\n",
       "    </tr>\n",
       "    <tr>\n",
       "      <th>MCI</th>\n",
       "      <td>MCI</td>\n",
       "      <td>0.0</td>\n",
       "      <td>C</td>\n",
       "      <td>2</td>\n",
       "      <td>1</td>\n",
       "      <td>[1.0, 0.0]</td>\n",
       "    </tr>\n",
       "    <tr>\n",
       "      <th>DE</th>\n",
       "      <td>DE</td>\n",
       "      <td>0.0</td>\n",
       "      <td>C</td>\n",
       "      <td>2</td>\n",
       "      <td>1</td>\n",
       "      <td>[0.0, 1.0]</td>\n",
       "    </tr>\n",
       "    <tr>\n",
       "      <th>...</th>\n",
       "      <td>...</td>\n",
       "      <td>...</td>\n",
       "      <td>...</td>\n",
       "      <td>...</td>\n",
       "      <td>...</td>\n",
       "      <td>...</td>\n",
       "    </tr>\n",
       "    <tr>\n",
       "      <th>bat_RESPOTHX</th>\n",
       "      <td>bat_RESPOTHX</td>\n",
       "      <td>1.0</td>\n",
       "      <td>C</td>\n",
       "      <td>29</td>\n",
       "      <td>1</td>\n",
       "      <td>[severe aphasia, headache, language barrier, p...</td>\n",
       "    </tr>\n",
       "    <tr>\n",
       "      <th>apoe_NACCNE4S</th>\n",
       "      <td>apoe_NACCNE4S</td>\n",
       "      <td>0.27</td>\n",
       "      <td>C</td>\n",
       "      <td>3</td>\n",
       "      <td>1</td>\n",
       "      <td>[0.0, 2.0, 1.0]</td>\n",
       "    </tr>\n",
       "    <tr>\n",
       "      <th>cdr_CDRGLOB</th>\n",
       "      <td>cdr_CDRGLOB</td>\n",
       "      <td>0.01</td>\n",
       "      <td>N</td>\n",
       "      <td>5</td>\n",
       "      <td>1</td>\n",
       "      <td>[0.5, 0.0, 1.0, 3.0, 2.0]</td>\n",
       "    </tr>\n",
       "    <tr>\n",
       "      <th>cdr_CDRSUM</th>\n",
       "      <td>cdr_CDRSUM</td>\n",
       "      <td>0.02</td>\n",
       "      <td>N</td>\n",
       "      <td>33</td>\n",
       "      <td>1</td>\n",
       "      <td>[0.5, 2.5, 1.5, 0.0, 5.5, 15.0, 6.5, 12.0, 2.0...</td>\n",
       "    </tr>\n",
       "    <tr>\n",
       "      <th>mri_zip</th>\n",
       "      <td>mri_zip</td>\n",
       "      <td>0.87</td>\n",
       "      <td>N</td>\n",
       "      <td>6239</td>\n",
       "      <td>1</td>\n",
       "      <td>[NACC000511_1284011361963742861663996581901536...</td>\n",
       "    </tr>\n",
       "  </tbody>\n",
       "</table>\n",
       "<p>463 rows × 6 columns</p>\n",
       "</div>"
      ],
      "text/plain": [
       "                          name missing_rate type num_unique_values length  \\\n",
       "non_null_count  non_null_count         0.04  NaN               226      1   \n",
       "MRI_CNT                MRI_CNT         0.87  NaN                 7      1   \n",
       "NC                          NC          0.0    C                 2      1   \n",
       "MCI                        MCI          0.0    C                 2      1   \n",
       "DE                          DE          0.0    C                 2      1   \n",
       "...                        ...          ...  ...               ...    ...   \n",
       "bat_RESPOTHX      bat_RESPOTHX          1.0    C                29      1   \n",
       "apoe_NACCNE4S    apoe_NACCNE4S         0.27    C                 3      1   \n",
       "cdr_CDRGLOB        cdr_CDRGLOB         0.01    N                 5      1   \n",
       "cdr_CDRSUM          cdr_CDRSUM         0.02    N                33      1   \n",
       "mri_zip                mri_zip         0.87    N              6239      1   \n",
       "\n",
       "                                                    unique_values  \n",
       "non_null_count  [198.0, 146.0, 202.0, 259.0, 191.0, 200.0, 71....  \n",
       "MRI_CNT                       [3.0, 4.0, 1.0, 5.0, 0.0, 2.0, 6.0]  \n",
       "NC                                                     [0.0, 1.0]  \n",
       "MCI                                                    [1.0, 0.0]  \n",
       "DE                                                     [0.0, 1.0]  \n",
       "...                                                           ...  \n",
       "bat_RESPOTHX    [severe aphasia, headache, language barrier, p...  \n",
       "apoe_NACCNE4S                                     [0.0, 2.0, 1.0]  \n",
       "cdr_CDRGLOB                             [0.5, 0.0, 1.0, 3.0, 2.0]  \n",
       "cdr_CDRSUM      [0.5, 2.5, 1.5, 0.0, 5.5, 15.0, 6.5, 12.0, 2.0...  \n",
       "mri_zip         [NACC000511_1284011361963742861663996581901536...  \n",
       "\n",
       "[463 rows x 6 columns]"
      ]
     },
     "execution_count": 19,
     "metadata": {},
     "output_type": "execute_result"
    }
   ],
   "source": [
    "df"
   ]
  },
  {
   "cell_type": "code",
   "execution_count": 20,
   "metadata": {},
   "outputs": [
    {
     "data": {
      "text/plain": [
       "'[0.0, 1.0]'"
      ]
     },
     "execution_count": 20,
     "metadata": {},
     "output_type": "execute_result"
    }
   ],
   "source": [
    "list(meta1[meta1['name'] == 'NC']['unique_values'])[0]"
   ]
  },
  {
   "cell_type": "code",
   "execution_count": 21,
   "metadata": {},
   "outputs": [],
   "source": [
    "import ast\n",
    "for i, row in df.iterrows():\n",
    "    # print(type(str(row['unique_values'])))\n",
    "    # break\n",
    "    if row['name'] in list(meta1['name']):\n",
    "        a = sorted(set(row['unique_values']))\n",
    "        b = sorted(set(ast.literal_eval(list(meta1[meta1['name'] == row['name']]['unique_values'])[0])))\n",
    "        if -4 in a or -4 in b or '-4' in a or '-4' in b:\n",
    "            print(\"found\")\n",
    "        # if row['type'] == 'C' and row['num_unique_values'] != list(meta1[meta1['name'] == row['name']]['num_unique_values'])[0] and not isinstance(row['unique_values'][0], str):\n",
    "        #     # print(\"hello\")\n",
    "        #     print(row['name'])\n",
    "        #     print(row['num_unique_values'])\n",
    "        #     print(a)\n",
    "        #     print(b)\n",
    "        if a != b:\n",
    "            if (a[0] >= b[0] and a[-1] <= b[-1]) or (a[0] >= 0 and a[-1] <= b[-1]):\n",
    "                continue\n",
    "            if isinstance(a[0], str):\n",
    "                continue\n",
    "            print(row['name'])\n",
    "            print(a)\n",
    "            print(b)\n",
    "    # break\n",
    "    \n"
   ]
  },
  {
   "cell_type": "code",
   "execution_count": 22,
   "metadata": {},
   "outputs": [
    {
     "data": {
      "text/plain": [
       "Index(['non_null_count', 'MRI_CNT', 'NC', 'MCI', 'DE', 'AD', 'LBD', 'PDD',\n",
       "       'DLB', 'VD',\n",
       "       ...\n",
       "       'bat_RESPDISN', 'bat_RESPFATG', 'bat_RESPEMOT', 'bat_RESPASST',\n",
       "       'bat_RESPOTH', 'bat_RESPOTHX', 'apoe_NACCNE4S', 'cdr_CDRGLOB',\n",
       "       'cdr_CDRSUM', 'mri_zip'],\n",
       "      dtype='object', length=463)"
      ]
     },
     "execution_count": 22,
     "metadata": {},
     "output_type": "execute_result"
    }
   ],
   "source": [
    "df.index"
   ]
  },
  {
   "cell_type": "code",
   "execution_count": 23,
   "metadata": {},
   "outputs": [
    {
     "data": {
      "text/plain": [
       "True"
      ]
     },
     "execution_count": 23,
     "metadata": {},
     "output_type": "execute_result"
    }
   ],
   "source": [
    "'exam_RESTTRL' in df.index"
   ]
  },
  {
   "cell_type": "code",
   "execution_count": 24,
   "metadata": {},
   "outputs": [],
   "source": [
    "df.to_csv('meta_files/meta_file.csv', index=False)"
   ]
  },
  {
   "cell_type": "code",
   "execution_count": null,
   "metadata": {},
   "outputs": [],
   "source": []
  }
 ],
 "metadata": {
  "kernelspec": {
   "display_name": "adrd",
   "language": "python",
   "name": "python3"
  },
  "language_info": {
   "codemirror_mode": {
    "name": "ipython",
    "version": 3
   },
   "file_extension": ".py",
   "mimetype": "text/x-python",
   "name": "python",
   "nbconvert_exporter": "python",
   "pygments_lexer": "ipython3",
   "version": "3.11.7"
  },
  "orig_nbformat": 4,
  "vscode": {
   "interpreter": {
    "hash": "a2fee1eeda00f634ef393c368cf80d2602caace706932955f6e4df5f01719481"
   }
  }
 },
 "nbformat": 4,
 "nbformat_minor": 2
}
